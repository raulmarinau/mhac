{
 "cells": [
  {
   "cell_type": "code",
   "execution_count": 1,
   "metadata": {},
   "outputs": [],
   "source": [
    "folder_path = \"../data/jss/imrg/ds1/testbed_1_s\"\n",
    "best_path = \"../data/jss/imrg/ds1/best/testbed1_small.csv\"\n",
    "output_file = \"results/meal.csv\""
   ]
  },
  {
   "cell_type": "code",
   "execution_count": 28,
   "metadata": {},
   "outputs": [],
   "source": [
    "import os, csv, time, math\n",
    "import numpy as np\n",
    "from mealpy import TS, SA, ACOR, GA, Problem, PermutationVar\n",
    "\n",
    "\n",
    "class JSSP(Problem):\n",
    "    def __init__(self, bounds, minmax, name=\"JSSP\", processing_times=None, **kwargs):\n",
    "        self.name = name\n",
    "        self.processing_times = processing_times\n",
    "        super().__init__(bounds, minmax, **kwargs)\n",
    "\n",
    "    def obj_func(self, solution):\n",
    "        solution = self.decode_solution(solution)[\"per\"]\n",
    "        num_jobs = len(solution)\n",
    "        num_machines = len(self.processing_times[0])\n",
    "        \n",
    "        # Initialize completion times matrix\n",
    "        completion_times = [[0] * num_machines for _ in range(num_jobs)]\n",
    "        total_completion_time = 0\n",
    "\n",
    "        for job_index in range(num_jobs):\n",
    "            job = solution[job_index]\n",
    "\n",
    "            for machine in range(num_machines):\n",
    "                if job_index == 0:\n",
    "                    if machine == 0:\n",
    "                        completion_times[job_index][machine] = self.processing_times[job][machine]\n",
    "                    else:\n",
    "                        completion_times[job_index][machine] = completion_times[job_index][machine-1] + self.processing_times[job][machine]\n",
    "                else:\n",
    "                    if machine == 0:\n",
    "                        completion_times[job_index][machine] = completion_times[job_index-1][machine] + self.processing_times[job][machine]\n",
    "                    else:\n",
    "                        completion_times[job_index][machine] = self.processing_times[job][machine] + max(completion_times[job_index][machine-1], completion_times[job_index-1][machine])\n",
    "\n",
    "                if machine == num_machines - 1:\n",
    "                    total_completion_time += completion_times[job_index][machine]\n",
    "\n",
    "        return total_completion_time\n",
    "    \n",
    "    def amend_position(self, solution):\n",
    "        unique_jobs = np.unique(solution)\n",
    "        if len(unique_jobs) == len(solution):\n",
    "            # The solution is already a valid permutation\n",
    "            return solution\n",
    "        else:\n",
    "            # If it's not, we reconstruct a valid permutation\n",
    "            # This scenario might be rare depending on how the solution is generated or modified\n",
    "            n = len(solution)\n",
    "            valid_permutation = np.random.permutation(n)\n",
    "            return valid_permutation.tolist()"
   ]
  },
  {
   "cell_type": "code",
   "execution_count": 3,
   "metadata": {},
   "outputs": [],
   "source": [
    "def read_file_input(filepath):\n",
    "    with open(filepath) as f:\n",
    "        lines = f.readlines()\n",
    "        sizes = [int(nr) for nr in lines[0].split()]\n",
    "        m, n = sizes[0], sizes[1]\n",
    "        arr = np.zeros((n, m))\n",
    "\n",
    "        for i in range(1, len(lines)):\n",
    "            arr[i-1, :] = [int(nr) for nr in lines[i].split()]\n",
    "\n",
    "    return arr"
   ]
  },
  {
   "cell_type": "code",
   "execution_count": 4,
   "metadata": {},
   "outputs": [],
   "source": [
    "def read_all_files_in_folder(folder_path):\n",
    "    # List to hold file contents\n",
    "    file_contents = {}\n",
    "\n",
    "    # Check if the provided path is a directory\n",
    "    if not os.path.isdir(folder_path):\n",
    "        raise ValueError(f\"The provided path '{folder_path}' is not a valid directory.\")\n",
    "\n",
    "    # Iterate over all files in the directory\n",
    "    for filename in os.listdir(folder_path):\n",
    "        file_path = os.path.join(folder_path, filename)\n",
    "\n",
    "        # Check if it's a file\n",
    "        if os.path.isfile(file_path):\n",
    "            try:\n",
    "                # Open and read the file\n",
    "                with open(file_path, 'r') as file:\n",
    "                    content = file.read()\n",
    "                    file_contents[filename] = content\n",
    "            except Exception as e:\n",
    "                print(f\"Error reading file {filename}: {e}\")\n",
    "    \n",
    "    return file_contents"
   ]
  },
  {
   "cell_type": "code",
   "execution_count": 5,
   "metadata": {},
   "outputs": [],
   "source": [
    "def process_files(file_data):\n",
    "    results = []\n",
    "    total_time = 0\n",
    "    for filename, content in file_data.items():\n",
    "        data = read_file_input(f\"{folder_path}/{filename}\")\n",
    "        problem_jssp = JSSP(bounds=PermutationVar(valid_set=[i for i in range(data.shape[0])], name=\"per\"), processing_times=data, minmax=\"min\", log_to=\"\")\n",
    "        model = SA.OriginalSA(epoch=1400, temp_init=100, cooling_rate=0.995)\n",
    "        \n",
    "        # FIXME: seems like tabu search is bugged\n",
    "        # model = TS.OriginalTS(epoch=1000, pop_size=50, tabu_size=5, neighbour_size=20, perturbation_scale=0.05)\n",
    "        # model = GA.BaseGA(epoch=1000, pop_size=50, pc=0.9, pm=0.05, selection=\"tournament\")\n",
    "        # model = ACOR.OriginalACOR(epoch=1000, pop_size=50, sample_count = 25, intent_factor = 0.5, zeta = 1.0)\n",
    "\n",
    "        start_time = time.time()\n",
    "        model.solve(problem=problem_jssp)\n",
    "        end_time = time.time()\n",
    "        duration = end_time - start_time\n",
    "\n",
    "        print(f\"Processing file: {filename} took {duration:.4f}s\")\n",
    "\n",
    "        results.append({\"filename\": filename, \"cost\": model.g_best.target.fitness, \"time\": duration})\n",
    "        total_time += duration\n",
    "\n",
    "    print(f\"Total time spent solving: {total_time:.4f}s\")\n",
    "    return results"
   ]
  },
  {
   "cell_type": "code",
   "execution_count": 6,
   "metadata": {},
   "outputs": [],
   "source": [
    "def write_results_to_csv(results, output_file):\n",
    "    with open(output_file, 'w', newline='') as csvfile:\n",
    "        fieldnames = ['filename', 'cost', 'time']\n",
    "        writer = csv.DictWriter(csvfile, fieldnames=fieldnames)\n",
    "        \n",
    "        writer.writeheader()\n",
    "        for result in results:\n",
    "            writer.writerow(result)"
   ]
  },
  {
   "cell_type": "code",
   "execution_count": 7,
   "metadata": {},
   "outputs": [],
   "source": [
    "file_data = read_all_files_in_folder(folder_path)"
   ]
  },
  {
   "cell_type": "code",
   "execution_count": 8,
   "metadata": {},
   "outputs": [
    {
     "name": "stdout",
     "output_type": "stream",
     "text": [
      "Processing file: t1s_0238.txt took 0.6820s\n",
      "Processing file: t1s_0216.txt took 0.6415s\n",
      "Processing file: t1s_0312.txt took 0.5089s\n",
      "Processing file: t1s_0281.txt took 0.4861s\n",
      "Processing file: t1s_0113.txt took 0.4722s\n",
      "Processing file: t1s_0082.txt took 0.3373s\n",
      "Processing file: t1s_0192.txt took 0.4013s\n",
      "Processing file: t1s_0266.txt took 0.3469s\n",
      "Processing file: t1s_0021.txt took 0.4094s\n",
      "Processing file: t1s_0018.txt took 0.3737s\n",
      "Processing file: t1s_0162.txt took 0.3841s\n",
      "Processing file: t1s_0147.txt took 0.3788s\n",
      "Processing file: t1s_0183.txt took 0.4594s\n",
      "Processing file: t1s_0346.txt took 0.5709s\n",
      "Processing file: t1s_0062.txt took 0.4031s\n",
      "Processing file: t1s_0027.txt took 0.3937s\n",
      "Processing file: t1s_0200.txt took 0.4930s\n",
      "Processing file: t1s_0111.txt took 0.4096s\n",
      "Processing file: t1s_0213.txt took 0.6110s\n",
      "Processing file: t1s_0034.txt took 0.3540s\n",
      "Processing file: t1s_0295.txt took 0.4047s\n",
      "Processing file: t1s_0057.txt took 0.3629s\n",
      "Processing file: t1s_0328.txt took 0.5155s\n",
      "Processing file: t1s_0218.txt took 0.5486s\n",
      "Processing file: t1s_0234.txt took 0.5096s\n",
      "Processing file: t1s_0223.txt took 1.0484s\n",
      "Processing file: t1s_0137.txt took 0.6388s\n",
      "Processing file: t1s_0253.txt took 0.4065s\n",
      "Processing file: t1s_0118.txt took 0.4205s\n",
      "Processing file: t1s_0306.txt took 0.4951s\n",
      "Processing file: t1s_0148.txt took 0.3386s\n",
      "Processing file: t1s_0303.txt took 0.4755s\n",
      "Processing file: t1s_0231.txt took 0.5898s\n",
      "Processing file: t1s_0117.txt took 0.4239s\n",
      "Processing file: t1s_0240.txt took 0.5584s\n",
      "Processing file: t1s_0114.txt took 0.4714s\n",
      "Processing file: t1s_0107.txt took 0.4900s\n",
      "Processing file: t1s_0316.txt took 0.4988s\n",
      "Processing file: t1s_0206.txt took 0.4325s\n",
      "Processing file: t1s_0070.txt took 0.3782s\n",
      "Processing file: t1s_0229.txt took 0.6639s\n",
      "Processing file: t1s_0071.txt took 0.3811s\n",
      "Processing file: t1s_0252.txt took 0.5255s\n",
      "Processing file: t1s_0108.txt took 0.7730s\n",
      "Processing file: t1s_0168.txt took 0.4939s\n",
      "Processing file: t1s_0349.txt took 0.5944s\n",
      "Processing file: t1s_0131.txt took 0.3676s\n",
      "Processing file: t1s_0158.txt took 0.4536s\n",
      "Processing file: t1s_0326.txt took 0.5519s\n",
      "Processing file: t1s_0248.txt took 0.3793s\n",
      "Processing file: t1s_0146.txt took 0.4325s\n",
      "Processing file: t1s_0129.txt took 0.3692s\n",
      "Processing file: t1s_0275.txt took 0.4974s\n",
      "Processing file: t1s_0130.txt took 0.3763s\n",
      "Processing file: t1s_0221.txt took 0.7093s\n",
      "Processing file: t1s_0350.txt took 0.6258s\n",
      "Processing file: t1s_0322.txt took 0.4775s\n",
      "Processing file: t1s_0246.txt took 0.4473s\n",
      "Processing file: t1s_0232.txt took 0.6114s\n",
      "Processing file: t1s_0068.txt took 0.4168s\n",
      "Processing file: t1s_0208.txt took 0.4477s\n",
      "Processing file: t1s_0049.txt took 0.3890s\n",
      "Processing file: t1s_0144.txt took 0.3830s\n",
      "Processing file: t1s_0014.txt took 0.3475s\n",
      "Processing file: t1s_0277.txt took 0.4886s\n",
      "Processing file: t1s_0091.txt took 0.4659s\n",
      "Processing file: t1s_0324.txt took 0.4948s\n",
      "Processing file: t1s_0239.txt took 0.5573s\n",
      "Processing file: t1s_0255.txt took 0.4424s\n",
      "Processing file: t1s_0157.txt took 0.4066s\n",
      "Processing file: t1s_0115.txt took 0.4180s\n",
      "Processing file: t1s_0048.txt took 0.3323s\n",
      "Processing file: t1s_0040.txt took 0.4253s\n",
      "Processing file: t1s_0119.txt took 0.4038s\n",
      "Processing file: t1s_0133.txt took 0.3551s\n",
      "Processing file: t1s_0210.txt took 0.4713s\n",
      "Processing file: t1s_0178.txt took 0.3642s\n",
      "Processing file: t1s_0333.txt took 0.6887s\n",
      "Processing file: t1s_0261.txt took 0.5193s\n",
      "Processing file: t1s_0029.txt took 0.4053s\n",
      "Processing file: t1s_0059.txt took 0.3714s\n",
      "Processing file: t1s_0024.txt took 0.3907s\n",
      "Processing file: t1s_0035.txt took 0.6528s\n",
      "Processing file: t1s_0280.txt took 0.9458s\n",
      "Processing file: t1s_0313.txt took 0.6260s\n",
      "Processing file: t1s_0314.txt took 0.6866s\n",
      "Processing file: t1s_0309.txt took 0.4734s\n",
      "Processing file: t1s_0274.txt took 0.3966s\n",
      "Processing file: t1s_0265.txt took 0.2903s\n",
      "Processing file: t1s_0169.txt took 0.3781s\n",
      "Processing file: t1s_0230.txt took 0.5013s\n",
      "Processing file: t1s_0051.txt took 0.3250s\n",
      "Processing file: t1s_0305.txt took 0.4516s\n",
      "Processing file: t1s_0022.txt took 0.3432s\n",
      "Processing file: t1s_0187.txt took 0.5095s\n",
      "Processing file: t1s_0151.txt took 0.4507s\n",
      "Processing file: t1s_0287.txt took 0.4424s\n",
      "Processing file: t1s_0081.txt took 0.3565s\n",
      "Processing file: t1s_0072.txt took 0.3773s\n",
      "Processing file: t1s_0124.txt took 0.3631s\n",
      "Processing file: t1s_0065.txt took 0.4861s\n",
      "Processing file: t1s_0180.txt took 0.4151s\n",
      "Processing file: t1s_0212.txt took 0.5442s\n",
      "Processing file: t1s_0028.txt took 0.3285s\n",
      "Processing file: t1s_0355.txt took 0.7558s\n",
      "Processing file: t1s_0299.txt took 0.4971s\n",
      "Processing file: t1s_0174.txt took 0.3920s\n",
      "Processing file: t1s_0186.txt took 0.5276s\n",
      "Processing file: t1s_0331.txt took 0.7085s\n",
      "Processing file: t1s_0222.txt took 0.5917s\n",
      "Processing file: t1s_0352.txt took 0.7485s\n",
      "Processing file: t1s_0329.txt took 0.5694s\n",
      "Processing file: t1s_0190.txt took 0.5833s\n",
      "Processing file: t1s_0343.txt took 0.5241s\n",
      "Processing file: t1s_0357.txt took 0.6885s\n",
      "Processing file: t1s_0076.txt took 0.4498s\n",
      "Processing file: t1s_0015.txt took 0.3903s\n",
      "Processing file: t1s_0327.txt took 0.6196s\n",
      "Processing file: t1s_0161.txt took 0.4432s\n",
      "Processing file: t1s_0260.txt took 0.3710s\n",
      "Processing file: t1s_0311.txt took 0.4525s\n",
      "Processing file: t1s_0099.txt took 0.5100s\n",
      "Processing file: t1s_0105.txt took 0.4302s\n",
      "Processing file: t1s_0079.txt took 0.3916s\n",
      "Processing file: t1s_0256.txt took 0.3774s\n",
      "Processing file: t1s_0269.txt took 0.4093s\n",
      "Processing file: t1s_0077.txt took 0.4865s\n",
      "Processing file: t1s_0125.txt took 0.5641s\n",
      "Processing file: t1s_0263.txt took 0.5785s\n",
      "Processing file: t1s_0296.txt took 0.5053s\n",
      "Processing file: t1s_0149.txt took 0.4056s\n",
      "Processing file: t1s_0106.txt took 0.5357s\n",
      "Processing file: t1s_0152.txt took 0.7117s\n",
      "Processing file: t1s_0288.txt took 0.5770s\n",
      "Processing file: t1s_0345.txt took 0.6855s\n",
      "Processing file: t1s_0056.txt took 0.4473s\n",
      "Processing file: t1s_0013.txt took 0.4421s\n",
      "Processing file: t1s_0282.txt took 0.3412s\n",
      "Processing file: t1s_0031.txt took 0.4405s\n",
      "Processing file: t1s_0335.txt took 0.6526s\n",
      "Processing file: t1s_0300.txt took 0.5725s\n",
      "Processing file: t1s_0179.txt took 0.4469s\n",
      "Processing file: t1s_0344.txt took 0.6467s\n",
      "Processing file: t1s_0009.txt took 0.3826s\n",
      "Processing file: t1s_0291.txt took 0.3956s\n",
      "Processing file: t1s_0060.txt took 0.3210s\n",
      "Processing file: t1s_0042.txt took 0.3783s\n",
      "Processing file: t1s_0153.txt took 0.3355s\n",
      "Processing file: t1s_0264.txt took 0.3749s\n",
      "Processing file: t1s_0203.txt took 0.4505s\n",
      "Processing file: t1s_0094.txt took 0.6272s\n",
      "Processing file: t1s_0211.txt took 0.5373s\n",
      "Processing file: t1s_0196.txt took 0.4161s\n",
      "Processing file: t1s_0164.txt took 0.4106s\n",
      "Processing file: t1s_0342.txt took 0.4792s\n",
      "Processing file: t1s_0271.txt took 0.3602s\n",
      "Processing file: t1s_0025.txt took 0.3398s\n",
      "Processing file: t1s_0141.txt took 0.3814s\n",
      "Processing file: t1s_0336.txt took 0.5771s\n",
      "Processing file: t1s_0145.txt took 0.3328s\n",
      "Processing file: t1s_0039.txt took 0.4425s\n",
      "Processing file: t1s_0100.txt took 0.4531s\n",
      "Processing file: t1s_0284.txt took 0.3893s\n",
      "Processing file: t1s_0098.txt took 0.4338s\n",
      "Processing file: t1s_0297.txt took 0.4379s\n",
      "Processing file: t1s_0185.txt took 0.3783s\n",
      "Processing file: t1s_0046.txt took 0.3201s\n",
      "Processing file: t1s_0227.txt took 0.4675s\n",
      "Processing file: t1s_0301.txt took 0.5034s\n",
      "Processing file: t1s_0165.txt took 0.4714s\n",
      "Processing file: t1s_0268.txt took 0.3953s\n",
      "Processing file: t1s_0251.txt took 0.4530s\n",
      "Processing file: t1s_0088.txt took 0.3861s\n",
      "Processing file: t1s_0128.txt took 0.4575s\n",
      "Processing file: t1s_0110.txt took 0.6304s\n",
      "Processing file: t1s_0225.txt took 1.4815s\n",
      "Processing file: t1s_0338.txt took 1.1241s\n",
      "Processing file: t1s_0063.txt took 0.5050s\n",
      "Processing file: t1s_0226.txt took 1.3456s\n",
      "Processing file: t1s_0160.txt took 1.1872s\n",
      "Processing file: t1s_0209.txt took 0.9149s\n",
      "Processing file: t1s_0193.txt took 0.7049s\n",
      "Processing file: t1s_0102.txt took 0.9365s\n",
      "Processing file: t1s_0167.txt took 0.9902s\n",
      "Processing file: t1s_0318.txt took 0.7969s\n",
      "Processing file: t1s_0007.txt took 0.5123s\n",
      "Processing file: t1s_0005.txt took 0.4232s\n",
      "Processing file: t1s_0241.txt took 0.4107s\n",
      "Processing file: t1s_0315.txt took 0.4671s\n",
      "Processing file: t1s_0139.txt took 0.5048s\n",
      "Processing file: t1s_0047.txt took 0.4120s\n",
      "Processing file: t1s_0138.txt took 0.3906s\n",
      "Processing file: t1s_0249.txt took 0.4126s\n",
      "Processing file: t1s_0092.txt took 0.4454s\n",
      "Processing file: t1s_0235.txt took 0.5898s\n",
      "Processing file: t1s_0359.txt took 0.7500s\n",
      "Processing file: t1s_0020.txt took 0.5724s\n",
      "Processing file: t1s_0122.txt took 0.5823s\n",
      "Processing file: t1s_0052.txt took 0.4635s\n",
      "Processing file: t1s_0154.txt took 0.6662s\n",
      "Processing file: t1s_0142.txt took 0.3970s\n",
      "Processing file: t1s_0207.txt took 0.5457s\n",
      "Processing file: t1s_0182.txt took 0.5472s\n",
      "Processing file: t1s_0037.txt took 0.3783s\n",
      "Processing file: t1s_0140.txt took 0.4863s\n",
      "Processing file: t1s_0143.txt took 0.3519s\n",
      "Processing file: t1s_0257.txt took 0.3983s\n",
      "Processing file: t1s_0074.txt took 0.3124s\n",
      "Processing file: t1s_0290.txt took 0.3729s\n",
      "Processing file: t1s_0358.txt took 0.6605s\n",
      "Processing file: t1s_0177.txt took 0.3801s\n",
      "Processing file: t1s_0080.txt took 0.3580s\n",
      "Processing file: t1s_0298.txt took 0.3925s\n",
      "Processing file: t1s_0244.txt took 0.3719s\n",
      "Processing file: t1s_0045.txt took 0.7534s\n",
      "Processing file: t1s_0123.txt took 0.9348s\n",
      "Processing file: t1s_0276.txt took 0.9355s\n",
      "Processing file: t1s_0064.txt took 0.5949s\n",
      "Processing file: t1s_0166.txt took 0.6779s\n",
      "Processing file: t1s_0103.txt took 0.7048s\n",
      "Processing file: t1s_0194.txt took 0.4301s\n",
      "Processing file: t1s_0050.txt took 0.3402s\n",
      "Processing file: t1s_0330.txt took 0.4759s\n",
      "Processing file: t1s_0191.txt took 0.4182s\n",
      "Processing file: t1s_0116.txt took 0.6077s\n",
      "Processing file: t1s_0095.txt took 0.5737s\n",
      "Processing file: t1s_0090.txt took 0.3811s\n",
      "Processing file: t1s_0243.txt took 0.3922s\n",
      "Processing file: t1s_0259.txt took 0.3422s\n",
      "Processing file: t1s_0201.txt took 0.6254s\n",
      "Processing file: t1s_0321.txt took 0.5521s\n",
      "Processing file: t1s_0008.txt took 0.4999s\n",
      "Processing file: t1s_0285.txt took 0.4286s\n",
      "Processing file: t1s_0220.txt took 0.8211s\n",
      "Processing file: t1s_0175.txt took 0.4198s\n",
      "Processing file: t1s_0195.txt took 0.4166s\n",
      "Processing file: t1s_0083.txt took 0.4014s\n",
      "Processing file: t1s_0205.txt took 0.4158s\n",
      "Processing file: t1s_0001.txt took 0.3512s\n",
      "Processing file: t1s_0304.txt took 0.5593s\n",
      "Processing file: t1s_0351.txt took 0.6112s\n",
      "Processing file: t1s_0215.txt took 0.5306s\n",
      "Processing file: t1s_0038.txt took 0.3491s\n",
      "Processing file: t1s_0055.txt took 0.4270s\n",
      "Processing file: t1s_0273.txt took 0.5074s\n",
      "Processing file: t1s_0003.txt took 0.3363s\n",
      "Processing file: t1s_0127.txt took 0.3845s\n",
      "Processing file: t1s_0126.txt took 0.3481s\n",
      "Processing file: t1s_0292.txt took 0.3699s\n",
      "Processing file: t1s_0032.txt took 0.3032s\n",
      "Processing file: t1s_0262.txt took 0.3414s\n",
      "Processing file: t1s_0058.txt took 0.3066s\n",
      "Processing file: t1s_0302.txt took 0.3697s\n",
      "Processing file: t1s_0294.txt took 0.3718s\n",
      "Processing file: t1s_0155.txt took 0.3056s\n",
      "Processing file: t1s_0236.txt took 0.4583s\n",
      "Processing file: t1s_0237.txt took 0.4727s\n",
      "Processing file: t1s_0286.txt took 0.3637s\n",
      "Processing file: t1s_0217.txt took 0.4651s\n",
      "Processing file: t1s_0006.txt took 0.2730s\n",
      "Processing file: t1s_0043.txt took 0.3483s\n",
      "Processing file: t1s_0026.txt took 0.2998s\n",
      "Processing file: t1s_0181.txt took 0.3559s\n",
      "Processing file: t1s_0044.txt took 0.3304s\n",
      "Processing file: t1s_0340.txt took 0.4860s\n",
      "Processing file: t1s_0171.txt took 0.2993s\n",
      "Processing file: t1s_0096.txt took 0.3500s\n",
      "Processing file: t1s_0075.txt took 0.4028s\n",
      "Processing file: t1s_0184.txt took 0.3649s\n",
      "Processing file: t1s_0317.txt took 0.4085s\n",
      "Processing file: t1s_0214.txt took 0.5138s\n",
      "Processing file: t1s_0093.txt took 0.3860s\n",
      "Processing file: t1s_0219.txt took 0.4723s\n",
      "Processing file: t1s_0310.txt took 0.4263s\n",
      "Processing file: t1s_0086.txt took 0.3193s\n",
      "Processing file: t1s_0332.txt took 0.5039s\n",
      "Processing file: t1s_0320.txt took 0.3912s\n",
      "Processing file: t1s_0010.txt took 0.4133s\n",
      "Processing file: t1s_0354.txt took 0.5526s\n",
      "Processing file: t1s_0112.txt took 0.3687s\n",
      "Processing file: t1s_0245.txt took 0.3452s\n",
      "Processing file: t1s_0173.txt took 0.3194s\n",
      "Processing file: t1s_0030.txt took 0.2781s\n",
      "Processing file: t1s_0189.txt took 0.4459s\n",
      "Processing file: t1s_0054.txt took 0.3030s\n",
      "Processing file: t1s_0120.txt took 0.3511s\n",
      "Processing file: t1s_0289.txt took 0.3103s\n",
      "Processing file: t1s_0087.txt took 0.3703s\n",
      "Processing file: t1s_0101.txt took 0.3549s\n",
      "Processing file: t1s_0176.txt took 0.4283s\n",
      "Processing file: t1s_0073.txt took 0.4568s\n",
      "Processing file: t1s_0002.txt took 0.3667s\n",
      "Processing file: t1s_0085.txt took 0.3631s\n",
      "Processing file: t1s_0353.txt took 0.5807s\n",
      "Processing file: t1s_0159.txt took 0.5685s\n",
      "Processing file: t1s_0198.txt took 0.4235s\n",
      "Processing file: t1s_0104.txt took 0.5078s\n",
      "Processing file: t1s_0089.txt took 0.4088s\n",
      "Processing file: t1s_0016.txt took 0.3266s\n",
      "Processing file: t1s_0136.txt took 0.3560s\n",
      "Processing file: t1s_0337.txt took 0.4900s\n",
      "Processing file: t1s_0109.txt took 0.3957s\n",
      "Processing file: t1s_0012.txt took 0.2852s\n",
      "Processing file: t1s_0334.txt took 0.4944s\n",
      "Processing file: t1s_0156.txt took 0.3821s\n",
      "Processing file: t1s_0023.txt took 0.2865s\n",
      "Processing file: t1s_0011.txt took 0.2819s\n",
      "Processing file: t1s_0097.txt took 0.4229s\n",
      "Processing file: t1s_0135.txt took 0.3088s\n",
      "Processing file: t1s_0308.txt took 0.3922s\n",
      "Processing file: t1s_0307.txt took 0.3952s\n",
      "Processing file: t1s_0069.txt took 0.3550s\n",
      "Processing file: t1s_0066.txt took 0.3377s\n",
      "Processing file: t1s_0150.txt took 0.2990s\n",
      "Processing file: t1s_0283.txt took 0.3436s\n",
      "Processing file: t1s_0017.txt took 0.3387s\n",
      "Processing file: t1s_0258.txt took 0.2945s\n",
      "Processing file: t1s_0036.txt took 0.3190s\n",
      "Processing file: t1s_0053.txt took 0.3431s\n",
      "Processing file: t1s_0163.txt took 0.3552s\n",
      "Processing file: t1s_0067.txt took 0.3713s\n",
      "Processing file: t1s_0341.txt took 0.5291s\n",
      "Processing file: t1s_0084.txt took 0.3356s\n",
      "Processing file: t1s_0033.txt took 0.3549s\n",
      "Processing file: t1s_0293.txt took 0.3571s\n",
      "Processing file: t1s_0339.txt took 0.5700s\n",
      "Processing file: t1s_0228.txt took 0.4957s\n",
      "Processing file: t1s_0132.txt took 0.3159s\n",
      "Processing file: t1s_0233.txt took 0.5108s\n",
      "Processing file: t1s_0078.txt took 0.3016s\n",
      "Processing file: t1s_0348.txt took 0.5268s\n",
      "Processing file: t1s_0061.txt took 0.4010s\n",
      "Processing file: t1s_0323.txt took 0.3702s\n",
      "Processing file: t1s_0270.txt took 0.3317s\n",
      "Processing file: t1s_0121.txt took 0.3197s\n",
      "Processing file: t1s_0224.txt took 0.5202s\n",
      "Processing file: t1s_0019.txt took 0.2995s\n",
      "Processing file: t1s_0172.txt took 0.3059s\n",
      "Processing file: t1s_0347.txt took 0.4990s\n",
      "Processing file: t1s_0197.txt took 0.4136s\n",
      "Processing file: t1s_0272.txt took 0.3196s\n",
      "Processing file: t1s_0134.txt took 0.2880s\n",
      "Processing file: t1s_0250.txt took 0.3440s\n",
      "Processing file: t1s_0204.txt took 0.3645s\n",
      "Processing file: t1s_0267.txt took 0.2900s\n",
      "Processing file: t1s_0254.txt took 0.3688s\n",
      "Processing file: t1s_0278.txt took 0.3372s\n",
      "Processing file: t1s_0325.txt took 0.3820s\n",
      "Processing file: t1s_0319.txt took 0.3995s\n",
      "Processing file: t1s_0279.txt took 0.3734s\n",
      "Processing file: t1s_0202.txt took 0.3886s\n",
      "Processing file: t1s_0356.txt took 0.4941s\n",
      "Processing file: t1s_0041.txt took 0.3552s\n",
      "Processing file: t1s_0188.txt took 0.3836s\n",
      "Processing file: t1s_0199.txt took 0.3804s\n",
      "Processing file: t1s_0242.txt took 0.3686s\n",
      "Processing file: t1s_0170.txt took 0.3368s\n",
      "Processing file: t1s_0360.txt took 0.4623s\n",
      "Processing file: t1s_0247.txt took 0.4131s\n",
      "Processing file: t1s_0004.txt took 0.3575s\n",
      "Total time spent solving: 167.3832s\n"
     ]
    }
   ],
   "source": [
    "results = process_files(file_data)"
   ]
  },
  {
   "cell_type": "code",
   "execution_count": 9,
   "metadata": {},
   "outputs": [],
   "source": [
    "results.sort(key=lambda x: x[\"filename\"])\n",
    "write_results_to_csv(results, output_file)"
   ]
  },
  {
   "cell_type": "markdown",
   "metadata": {},
   "source": [
    "# Results\n",
    "\n",
    "## SA\n",
    "\n",
    "| temp_init | cooling_rate | epoch | Time |\n",
    "|-----------|--------------|------------|------|\n",
    "| 1000 | 0.9995 | 41500 | 4783s |\n",
    "| 1000 | 0.9995 | 27500 | 3165s |\n",
    "| 100 | 0.9995 | 13800 | 1519s |\n",
    "| 100 | 0.999 | 6900 | 748s |\n",
    "| 100 | 0.995 | 1400 | 132s |\n"
   ]
  },
  {
   "cell_type": "markdown",
   "metadata": {},
   "source": [
    "# Tuning Params"
   ]
  },
  {
   "cell_type": "code",
   "execution_count": 30,
   "metadata": {},
   "outputs": [],
   "source": [
    "from skopt.space import Real, Integer\n",
    "from skopt import gp_minimize"
   ]
  },
  {
   "cell_type": "code",
   "execution_count": 50,
   "metadata": {},
   "outputs": [],
   "source": [
    "def compute_overall_score_SA(params):\n",
    "    # epoch, temp_init, cooling_rate = params\n",
    "    cooling_rate = params[0]\n",
    "    total_score = 0\n",
    "\n",
    "    for filename, content in file_data.items():\n",
    "        data = read_file_input(f\"{folder_path}/{filename}\")\n",
    "        problem_jssp = JSSP(bounds=PermutationVar(valid_set=[i for i in range(data.shape[0])], name=\"per\"), processing_times=data, minmax=\"min\", log_to=\"\")\n",
    "        model = SA.OriginalSA(epoch=1400, temp_init=100, cooling_rate=cooling_rate)\n",
    "        model.solve(problem=problem_jssp)\n",
    "\n",
    "        total_score += model.g_best.target.fitness\n",
    "\n",
    "    return total_score"
   ]
  },
  {
   "cell_type": "code",
   "execution_count": 51,
   "metadata": {},
   "outputs": [
    {
     "name": "stdout",
     "output_type": "stream",
     "text": [
      "0.9793458086021384\n",
      "2532622.0\n",
      "0.9917911545547604\n",
      "2520622.0\n",
      "0.9924683080723266\n",
      "2540505.0\n",
      "0.9919389610698143\n",
      "2531689.0\n",
      "0.9808664029909057\n",
      "2532680.0\n",
      "0.9690268945109887\n",
      "2532113.0\n",
      "0.9647279630239514\n",
      "2529200.0\n",
      "0.9528072923772134\n",
      "2543438.0\n",
      "0.9634964865817156\n",
      "2536788.0\n",
      "0.9736444233074069\n",
      "2529970.0\n",
      "0.9913422301822873\n",
      "2529876.0\n",
      "0.9916723575001553\n",
      "2523083.0\n",
      "0.9916023553256337\n",
      "2523612.0\n",
      "0.9655785741827382\n",
      "2527051.0\n",
      "0.9662194927246258\n",
      "2541983.0\n",
      "0.9651952876975529\n",
      "2543630.0\n",
      "0.9915950782606657\n",
      "2535132.0\n",
      "0.9976949843633858\n",
      "2528549.0\n",
      "0.9995\n",
      "2535930.0\n",
      "0.9916588590781203\n",
      "2525435.0\n",
      "0.9916597300798639\n",
      "2542739.0\n",
      "0.9915303233059177\n",
      "2525820.0\n",
      "0.9916078074180464\n",
      "2536860.0\n",
      "0.99163650506425\n",
      "2523959.0\n",
      "0.9910935092836725\n",
      "2525621.0\n",
      "0.9890342847701454\n",
      "2536327.0\n",
      "0.9913848405122606\n",
      "2540986.0\n",
      "0.9916785882064448\n",
      "2529502.0\n",
      "0.991692308051166\n",
      "2532066.0\n",
      "0.9916906701943395\n",
      "2531290.0\n",
      "0.9930111381386757\n",
      "2531255.0\n",
      "0.9916905085409875\n",
      "2534227.0\n",
      "0.9916767661837214\n",
      "2527157.0\n",
      "0.9916994429888827\n",
      "2533579.0\n",
      "0.9916819949623503\n",
      "2538466.0\n",
      "0.9916598603298743\n",
      "2538726.0\n",
      "0.9975626744875217\n",
      "2532394.0\n",
      "0.9916494339966438\n",
      "2519747.0\n",
      "0.9916513179667759\n",
      "2525505.0\n",
      "0.9916526445166078\n",
      "2539341.0\n",
      "0.9916491010935586\n",
      "2520423.0\n",
      "0.9916501501130185\n",
      "2532582.0\n",
      "0.9916499748668541\n",
      "2525902.0\n",
      "0.9916507647517325\n",
      "2520552.0\n",
      "0.9916538293749106\n",
      "2530031.0\n",
      "0.9916551238376253\n",
      "2522653.0\n",
      "0.9916769569212646\n",
      "2541772.0\n",
      "0.9916184167381324\n",
      "2526999.0\n",
      "0.991609574769968\n",
      "2531336.0\n",
      "0.9916116836905696\n",
      "2535005.0\n",
      "0.9916296178836806\n",
      "2535979.0\n",
      "0.9904737620678605\n",
      "2522590.0\n",
      "0.9906266874209956\n",
      "2523588.0\n",
      "0.9903752379737529\n",
      "2537268.0\n",
      "0.9907175157419712\n",
      "2526329.0\n",
      "0.9906104841505466\n",
      "2531389.0\n",
      "0.9906105894749284\n",
      "2528437.0\n",
      "0.99054787743195\n",
      "2530828.0\n",
      "0.9905339710951745\n",
      "2524276.0\n",
      "0.9904349740211934\n",
      "2531553.0\n",
      "0.9904338117753891\n",
      "2522904.0\n",
      "0.9903949387898688\n",
      "2530342.0\n",
      "0.9903914959956187\n",
      "2529616.0\n",
      "0.9903913763358508\n",
      "2531504.0\n",
      "0.986720986969081\n",
      "2523030.0\n",
      "0.9857934705977934\n",
      "2529892.0\n",
      "0.9857381767795921\n",
      "2532178.0\n",
      "0.9859355259400169\n",
      "2529818.0\n",
      "0.985871901248468\n",
      "2532917.0\n",
      "0.986193378699119\n",
      "2528717.0\n",
      "0.9859939264093697\n",
      "2526902.0\n",
      "0.9856242803696633\n",
      "2534395.0\n",
      "0.9861473975371527\n",
      "2526872.0\n",
      "0.985753065921167\n",
      "2539140.0\n",
      "0.9976678635292672\n",
      "2520508.0\n",
      "0.9500038310461623\n",
      "2530365.0\n",
      "0.9500057430694675\n",
      "2537520.0\n",
      "0.9500002425951906\n",
      "2531053.0\n",
      "0.9500032983441831\n",
      "2529541.0\n",
      "0.9500046671283359\n",
      "2536193.0\n",
      "0.9500010782246558\n",
      "2535814.0\n",
      "0.9500103074615341\n",
      "2533786.0\n",
      "0.9994995918597128\n",
      "2526700.0\n",
      "0.9994994149984398\n",
      "2517532.0\n",
      "0.9500005065180971\n",
      "2532473.0\n",
      "0.9994979032607508\n",
      "2526457.0\n",
      "0.9994965892897183\n",
      "2526274.0\n",
      "0.9994969089831934\n",
      "2530924.0\n",
      "0.9500167184513157\n",
      "2538457.0\n",
      "0.99948856725467\n",
      "2531458.0\n",
      "0.9994975829780212\n",
      "2527097.0\n",
      "0.9994992352303174\n",
      "2538041.0\n",
      "0.9500017103498372\n",
      "2529396.0\n",
      "0.970136506880075\n",
      "2540997.0\n",
      "0.9994990340363762\n",
      "2537580.0\n",
      "0.9717418007278825\n",
      "2525217.0\n",
      "0.9500034411314451\n",
      "2528185.0\n",
      "0.9500007131186325\n",
      "2524656.0\n",
      "0.9698979049245536\n",
      "2525343.0\n",
      "0.9500030518704718\n",
      "2521923.0\n"
     ]
    }
   ],
   "source": [
    "# Define the search space for the parameters\n",
    "space = [\n",
    "    # Integer(1000, 15000, name='epoch'),\n",
    "    # Real(50, 500, name='temp_init'),\n",
    "    Real(0.95, 0.9995, name='cooling_rate')\n",
    "]\n",
    "\n",
    "# Perform Bayesian optimization\n",
    "res = gp_minimize(compute_overall_score_SA, space, n_calls=100, random_state=0)"
   ]
  },
  {
   "cell_type": "code",
   "execution_count": 53,
   "metadata": {},
   "outputs": [
    {
     "name": "stdout",
     "output_type": "stream",
     "text": [
      "Best parameters found:\n",
      "k: 0.9994994149984398\n",
      "Best score achieved:\n",
      "2517532.0\n"
     ]
    }
   ],
   "source": [
    "# Output the best parameters found\n",
    "print(\"Best parameters found:\")\n",
    "print(f\"k: {res.x[0]}\")\n",
    "\n",
    "print(\"Best score achieved:\")\n",
    "print(res.fun)"
   ]
  },
  {
   "cell_type": "code",
   "execution_count": 58,
   "metadata": {},
   "outputs": [],
   "source": [
    "def compute_overall_score_GA(params):\n",
    "    pc, pm = params\n",
    "    total_score = 0\n",
    "\n",
    "    print(f\"Params: {params}\")\n",
    "\n",
    "    for filename, content in file_data.items():\n",
    "        data = read_file_input(f\"{folder_path}/{filename}\")\n",
    "        problem_jssp = JSSP(bounds=PermutationVar(valid_set=[i for i in range(data.shape[0])], name=\"per\"), processing_times=data, minmax=\"min\", log_to=\"\")\n",
    "        model = GA.BaseGA(epoch=100, pop_size=20, pc=pc, pm=pm, selection=\"tournament\")\n",
    "        model.solve(problem=problem_jssp)\n",
    "\n",
    "        total_score += model.g_best.target.fitness\n",
    "\n",
    "    print(f\"Total score: {total_score}\")\n",
    "    return total_score"
   ]
  },
  {
   "cell_type": "code",
   "execution_count": 60,
   "metadata": {},
   "outputs": [
    {
     "name": "stdout",
     "output_type": "stream",
     "text": [
      "Params: [0.9126404774627536, 0.8513965162371057]\n",
      "Total score: 2405733.0\n",
      "Params: [0.9630096673483238, 0.8540540475178718]\n",
      "Total score: 2407721.0\n",
      "Params: [0.9184771023893348, 0.442099719490503]\n",
      "Total score: 2406368.0\n",
      "Params: [0.8565315752434498, 0.15047454981252445]\n",
      "Total score: 2401319.0\n",
      "Params: [0.8518046959702216, 0.5251219544160015]\n",
      "Total score: 2404907.0\n",
      "Params: [0.9543120584673437, 0.5271796834138012]\n",
      "Total score: 2406782.0\n",
      "Params: [0.8746291112591577, 0.8441100995482662]\n",
      "Total score: 2406365.0\n",
      "Params: [0.864105270479281, 0.6768729661255656]\n",
      "Total score: 2405252.0\n",
      "Params: [0.8699658925697041, 0.9518680914682115]\n",
      "Total score: 2408223.0\n",
      "Params: [0.8266666482784026, 0.8743776599390085]\n",
      "Total score: 2405869.0\n",
      "Params: [0.8, 0.1]\n",
      "Total score: 2402044.0\n",
      "Params: [0.8941088567739597, 0.1]\n",
      "Total score: 2405654.0\n"
     ]
    },
    {
     "name": "stderr",
     "output_type": "stream",
     "text": [
      "/home/marin/.local/lib/python3.8/site-packages/skopt/optimizer/optimizer.py:517: UserWarning: The objective has been evaluated at point [0.8, 0.1] before, using random point [0.9044211906511079, 0.19922535102351924]\n",
      "  warnings.warn(\n"
     ]
    },
    {
     "name": "stdout",
     "output_type": "stream",
     "text": [
      "Params: [0.9044211906511079, 0.19922535102351924]\n",
      "Total score: 2403079.0\n"
     ]
    },
    {
     "name": "stderr",
     "output_type": "stream",
     "text": [
      "/home/marin/.local/lib/python3.8/site-packages/skopt/optimizer/optimizer.py:517: UserWarning: The objective has been evaluated at point [0.8, 0.1] before, using random point [0.8924575993680728, 0.2905611265781124]\n",
      "  warnings.warn(\n"
     ]
    },
    {
     "name": "stdout",
     "output_type": "stream",
     "text": [
      "Params: [0.8924575993680728, 0.2905611265781124]\n",
      "Total score: 2403474.0\n"
     ]
    },
    {
     "name": "stderr",
     "output_type": "stream",
     "text": [
      "/home/marin/.local/lib/python3.8/site-packages/skopt/optimizer/optimizer.py:517: UserWarning: The objective has been evaluated at point [0.8, 0.1] before, using random point [0.9237768229911724, 0.21341832172587932]\n",
      "  warnings.warn(\n"
     ]
    },
    {
     "name": "stdout",
     "output_type": "stream",
     "text": [
      "Params: [0.9237768229911724, 0.21341832172587932]\n",
      "Total score: 2404762.0\n"
     ]
    },
    {
     "name": "stderr",
     "output_type": "stream",
     "text": [
      "/home/marin/.local/lib/python3.8/site-packages/skopt/optimizer/optimizer.py:517: UserWarning: The objective has been evaluated at point [0.8, 0.1] before, using random point [0.9408503458866602, 0.18074625252752785]\n",
      "  warnings.warn(\n"
     ]
    },
    {
     "name": "stdout",
     "output_type": "stream",
     "text": [
      "Params: [0.9408503458866602, 0.18074625252752785]\n",
      "Total score: 2403754.0\n"
     ]
    },
    {
     "name": "stderr",
     "output_type": "stream",
     "text": [
      "/home/marin/.local/lib/python3.8/site-packages/skopt/optimizer/optimizer.py:517: UserWarning: The objective has been evaluated at point [0.8, 0.1] before, using random point [0.8140092151607029, 0.9739149873318063]\n",
      "  warnings.warn(\n"
     ]
    },
    {
     "name": "stdout",
     "output_type": "stream",
     "text": [
      "Params: [0.8140092151607029, 0.9739149873318063]\n",
      "Total score: 2405628.0\n"
     ]
    },
    {
     "name": "stderr",
     "output_type": "stream",
     "text": [
      "/home/marin/.local/lib/python3.8/site-packages/skopt/optimizer/optimizer.py:517: UserWarning: The objective has been evaluated at point [0.8, 0.1] before, using random point [0.9503355320079152, 0.8532741119121647]\n",
      "  warnings.warn(\n"
     ]
    },
    {
     "name": "stdout",
     "output_type": "stream",
     "text": [
      "Params: [0.9503355320079152, 0.8532741119121647]\n",
      "Total score: 2406777.0\n"
     ]
    },
    {
     "name": "stderr",
     "output_type": "stream",
     "text": [
      "/home/marin/.local/lib/python3.8/site-packages/skopt/optimizer/optimizer.py:517: UserWarning: The objective has been evaluated at point [0.8, 0.1] before, using random point [0.8360467062692386, 0.3234154672295446]\n",
      "  warnings.warn(\n"
     ]
    },
    {
     "name": "stdout",
     "output_type": "stream",
     "text": [
      "Params: [0.8360467062692386, 0.3234154672295446]\n",
      "Total score: 2403110.0\n"
     ]
    },
    {
     "name": "stderr",
     "output_type": "stream",
     "text": [
      "/home/marin/.local/lib/python3.8/site-packages/skopt/optimizer/optimizer.py:517: UserWarning: The objective has been evaluated at point [0.8, 0.1] before, using random point [0.870315413697984, 0.1715184216936163]\n",
      "  warnings.warn(\n"
     ]
    },
    {
     "name": "stdout",
     "output_type": "stream",
     "text": [
      "Params: [0.870315413697984, 0.1715184216936163]\n",
      "Total score: 2402391.0\n"
     ]
    },
    {
     "name": "stderr",
     "output_type": "stream",
     "text": [
      "/home/marin/.local/lib/python3.8/site-packages/skopt/optimizer/optimizer.py:517: UserWarning: The objective has been evaluated at point [0.8, 0.1] before, using random point [0.8290893293546178, 0.21351008953754794]\n",
      "  warnings.warn(\n"
     ]
    },
    {
     "name": "stdout",
     "output_type": "stream",
     "text": [
      "Params: [0.8290893293546178, 0.21351008953754794]\n",
      "Total score: 2401919.0\n"
     ]
    },
    {
     "name": "stderr",
     "output_type": "stream",
     "text": [
      "/home/marin/.local/lib/python3.8/site-packages/skopt/optimizer/optimizer.py:517: UserWarning: The objective has been evaluated at point [0.8, 0.1] before, using random point [0.8971559177579917, 0.5411324128645391]\n",
      "  warnings.warn(\n"
     ]
    },
    {
     "name": "stdout",
     "output_type": "stream",
     "text": [
      "Params: [0.8971559177579917, 0.5411324128645391]\n",
      "Total score: 2404907.0\n"
     ]
    },
    {
     "name": "stderr",
     "output_type": "stream",
     "text": [
      "/home/marin/.local/lib/python3.8/site-packages/skopt/optimizer/optimizer.py:517: UserWarning: The objective has been evaluated at point [0.8, 0.1] before, using random point [0.897887553765774, 0.13033386040518657]\n",
      "  warnings.warn(\n"
     ]
    },
    {
     "name": "stdout",
     "output_type": "stream",
     "text": [
      "Params: [0.897887553765774, 0.13033386040518657]\n",
      "Total score: 2405933.0\n",
      "Params: [0.8371934033833225, 0.16067233238080864]\n",
      "Total score: 2403432.0\n"
     ]
    },
    {
     "name": "stderr",
     "output_type": "stream",
     "text": [
      "/home/marin/.local/lib/python3.8/site-packages/skopt/optimizer/optimizer.py:517: UserWarning: The objective has been evaluated at point [0.8, 0.1] before, using random point [0.819427253585719, 0.2096967109150575]\n",
      "  warnings.warn(\n"
     ]
    },
    {
     "name": "stdout",
     "output_type": "stream",
     "text": [
      "Params: [0.819427253585719, 0.2096967109150575]\n",
      "Total score: 2403801.0\n"
     ]
    },
    {
     "name": "stderr",
     "output_type": "stream",
     "text": [
      "/home/marin/.local/lib/python3.8/site-packages/skopt/optimizer/optimizer.py:517: UserWarning: The objective has been evaluated at point [0.8, 0.1] before, using random point [0.8671570380544086, 0.504219045122868]\n",
      "  warnings.warn(\n"
     ]
    },
    {
     "name": "stdout",
     "output_type": "stream",
     "text": [
      "Params: [0.8671570380544086, 0.504219045122868]\n",
      "Total score: 2404709.0\n"
     ]
    },
    {
     "name": "stderr",
     "output_type": "stream",
     "text": [
      "/home/marin/.local/lib/python3.8/site-packages/skopt/optimizer/optimizer.py:517: UserWarning: The objective has been evaluated at point [0.8, 0.1] before, using random point [0.8930504390245169, 0.6626134729454954]\n",
      "  warnings.warn(\n"
     ]
    },
    {
     "name": "stdout",
     "output_type": "stream",
     "text": [
      "Params: [0.8930504390245169, 0.6626134729454954]\n",
      "Total score: 2406963.0\n"
     ]
    },
    {
     "name": "stderr",
     "output_type": "stream",
     "text": [
      "/home/marin/.local/lib/python3.8/site-packages/skopt/optimizer/optimizer.py:517: UserWarning: The objective has been evaluated at point [0.8, 0.1] before, using random point [0.8767615810718552, 0.5232877270240358]\n",
      "  warnings.warn(\n"
     ]
    },
    {
     "name": "stdout",
     "output_type": "stream",
     "text": [
      "Params: [0.8767615810718552, 0.5232877270240358]\n",
      "Total score: 2405982.0\n"
     ]
    },
    {
     "name": "stderr",
     "output_type": "stream",
     "text": [
      "/home/marin/.local/lib/python3.8/site-packages/skopt/optimizer/optimizer.py:517: UserWarning: The objective has been evaluated at point [0.8, 0.1] before, using random point [0.8163064899482124, 0.14839724793432751]\n",
      "  warnings.warn(\n"
     ]
    },
    {
     "name": "stdout",
     "output_type": "stream",
     "text": [
      "Params: [0.8163064899482124, 0.14839724793432751]\n",
      "Total score: 2403270.0\n"
     ]
    },
    {
     "name": "stderr",
     "output_type": "stream",
     "text": [
      "/home/marin/.local/lib/python3.8/site-packages/skopt/optimizer/optimizer.py:517: UserWarning: The objective has been evaluated at point [0.8, 0.1] before, using random point [0.8311777099387871, 0.3747336462444014]\n",
      "  warnings.warn(\n"
     ]
    },
    {
     "name": "stdout",
     "output_type": "stream",
     "text": [
      "Params: [0.8311777099387871, 0.3747336462444014]\n",
      "Total score: 2404955.0\n"
     ]
    },
    {
     "name": "stderr",
     "output_type": "stream",
     "text": [
      "/home/marin/.local/lib/python3.8/site-packages/skopt/optimizer/optimizer.py:517: UserWarning: The objective has been evaluated at point [0.8, 0.1] before, using random point [0.9158068548420936, 0.41729460919406847]\n",
      "  warnings.warn(\n"
     ]
    },
    {
     "name": "stdout",
     "output_type": "stream",
     "text": [
      "Params: [0.9158068548420936, 0.41729460919406847]\n",
      "Total score: 2402335.0\n"
     ]
    },
    {
     "name": "stderr",
     "output_type": "stream",
     "text": [
      "/home/marin/.local/lib/python3.8/site-packages/skopt/optimizer/optimizer.py:517: UserWarning: The objective has been evaluated at point [0.8, 0.1] before, using random point [0.932482279962581, 0.8864128326084405]\n",
      "  warnings.warn(\n"
     ]
    },
    {
     "name": "stdout",
     "output_type": "stream",
     "text": [
      "Params: [0.932482279962581, 0.8864128326084405]\n",
      "Total score: 2406081.0\n"
     ]
    },
    {
     "name": "stderr",
     "output_type": "stream",
     "text": [
      "/home/marin/.local/lib/python3.8/site-packages/skopt/optimizer/optimizer.py:517: UserWarning: The objective has been evaluated at point [0.8, 0.1] before, using random point [0.9616354086840306, 0.3291978870682423]\n",
      "  warnings.warn(\n"
     ]
    },
    {
     "name": "stdout",
     "output_type": "stream",
     "text": [
      "Params: [0.9616354086840306, 0.3291978870682423]\n",
      "Total score: 2405050.0\n"
     ]
    },
    {
     "name": "stderr",
     "output_type": "stream",
     "text": [
      "/home/marin/.local/lib/python3.8/site-packages/skopt/optimizer/optimizer.py:517: UserWarning: The objective has been evaluated at point [0.8, 0.1] before, using random point [0.9819494671622206, 0.47803314102020067]\n",
      "  warnings.warn(\n"
     ]
    },
    {
     "name": "stdout",
     "output_type": "stream",
     "text": [
      "Params: [0.9819494671622206, 0.47803314102020067]\n",
      "Total score: 2405143.0\n"
     ]
    },
    {
     "name": "stderr",
     "output_type": "stream",
     "text": [
      "/home/marin/.local/lib/python3.8/site-packages/skopt/optimizer/optimizer.py:517: UserWarning: The objective has been evaluated at point [0.8, 0.1] before, using random point [0.816002847655351, 0.9274459378355275]\n",
      "  warnings.warn(\n"
     ]
    },
    {
     "name": "stdout",
     "output_type": "stream",
     "text": [
      "Params: [0.816002847655351, 0.9274459378355275]\n",
      "Total score: 2406412.0\n"
     ]
    },
    {
     "name": "stderr",
     "output_type": "stream",
     "text": [
      "/home/marin/.local/lib/python3.8/site-packages/skopt/optimizer/optimizer.py:517: UserWarning: The objective has been evaluated at point [0.8, 0.1] before, using random point [0.8840278227745004, 0.41901446631246664]\n",
      "  warnings.warn(\n"
     ]
    },
    {
     "name": "stdout",
     "output_type": "stream",
     "text": [
      "Params: [0.8840278227745004, 0.41901446631246664]\n",
      "Total score: 2402439.0\n"
     ]
    },
    {
     "name": "stderr",
     "output_type": "stream",
     "text": [
      "/home/marin/.local/lib/python3.8/site-packages/skopt/optimizer/optimizer.py:517: UserWarning: The objective has been evaluated at point [0.8, 0.1] before, using random point [0.8793006723905373, 0.4807344296889916]\n",
      "  warnings.warn(\n"
     ]
    },
    {
     "name": "stdout",
     "output_type": "stream",
     "text": [
      "Params: [0.8793006723905373, 0.4807344296889916]\n",
      "Total score: 2404837.0\n"
     ]
    },
    {
     "name": "stderr",
     "output_type": "stream",
     "text": [
      "/home/marin/.local/lib/python3.8/site-packages/skopt/optimizer/optimizer.py:517: UserWarning: The objective has been evaluated at point [0.8, 0.1] before, using random point [0.8670708797990375, 0.36503488924208227]\n",
      "  warnings.warn(\n"
     ]
    },
    {
     "name": "stdout",
     "output_type": "stream",
     "text": [
      "Params: [0.8670708797990375, 0.36503488924208227]\n",
      "Total score: 2404371.0\n"
     ]
    },
    {
     "name": "stderr",
     "output_type": "stream",
     "text": [
      "/home/marin/.local/lib/python3.8/site-packages/skopt/optimizer/optimizer.py:517: UserWarning: The objective has been evaluated at point [0.8, 0.1] before, using random point [0.8863622146685461, 0.48335975165127876]\n",
      "  warnings.warn(\n"
     ]
    },
    {
     "name": "stdout",
     "output_type": "stream",
     "text": [
      "Params: [0.8863622146685461, 0.48335975165127876]\n",
      "Total score: 2404287.0\n"
     ]
    },
    {
     "name": "stderr",
     "output_type": "stream",
     "text": [
      "/home/marin/.local/lib/python3.8/site-packages/skopt/optimizer/optimizer.py:517: UserWarning: The objective has been evaluated at point [0.8, 0.1] before, using random point [0.9229984884600294, 0.5668130750523783]\n",
      "  warnings.warn(\n"
     ]
    },
    {
     "name": "stdout",
     "output_type": "stream",
     "text": [
      "Params: [0.9229984884600294, 0.5668130750523783]\n",
      "Total score: 2404302.0\n"
     ]
    },
    {
     "name": "stderr",
     "output_type": "stream",
     "text": [
      "/home/marin/.local/lib/python3.8/site-packages/skopt/optimizer/optimizer.py:517: UserWarning: The objective has been evaluated at point [0.8, 0.1] before, using random point [0.896351435216599, 0.3354781971036561]\n",
      "  warnings.warn(\n"
     ]
    },
    {
     "name": "stdout",
     "output_type": "stream",
     "text": [
      "Params: [0.896351435216599, 0.3354781971036561]\n",
      "Total score: 2403080.0\n"
     ]
    },
    {
     "name": "stderr",
     "output_type": "stream",
     "text": [
      "/home/marin/.local/lib/python3.8/site-packages/skopt/optimizer/optimizer.py:517: UserWarning: The objective has been evaluated at point [0.8, 0.1] before, using random point [0.846432357548531, 0.5356616999476859]\n",
      "  warnings.warn(\n"
     ]
    },
    {
     "name": "stdout",
     "output_type": "stream",
     "text": [
      "Params: [0.846432357548531, 0.5356616999476859]\n",
      "Total score: 2405482.0\n"
     ]
    },
    {
     "name": "stderr",
     "output_type": "stream",
     "text": [
      "/home/marin/.local/lib/python3.8/site-packages/skopt/optimizer/optimizer.py:517: UserWarning: The objective has been evaluated at point [0.8, 0.1] before, using random point [0.9071347157169719, 0.4286783033203364]\n",
      "  warnings.warn(\n"
     ]
    },
    {
     "name": "stdout",
     "output_type": "stream",
     "text": [
      "Params: [0.9071347157169719, 0.4286783033203364]\n",
      "Total score: 2404578.0\n"
     ]
    },
    {
     "name": "stderr",
     "output_type": "stream",
     "text": [
      "/home/marin/.local/lib/python3.8/site-packages/skopt/optimizer/optimizer.py:517: UserWarning: The objective has been evaluated at point [0.8, 0.1] before, using random point [0.9637735197866232, 0.9263435940804683]\n",
      "  warnings.warn(\n"
     ]
    },
    {
     "name": "stdout",
     "output_type": "stream",
     "text": [
      "Params: [0.9637735197866232, 0.9263435940804683]\n",
      "Total score: 2409073.0\n"
     ]
    },
    {
     "name": "stderr",
     "output_type": "stream",
     "text": [
      "/home/marin/.local/lib/python3.8/site-packages/skopt/optimizer/optimizer.py:517: UserWarning: The objective has been evaluated at point [0.8, 0.1] before, using random point [0.9352493275060105, 0.5289315733407758]\n",
      "  warnings.warn(\n"
     ]
    },
    {
     "name": "stdout",
     "output_type": "stream",
     "text": [
      "Params: [0.9352493275060105, 0.5289315733407758]\n",
      "Total score: 2403848.0\n"
     ]
    },
    {
     "name": "stderr",
     "output_type": "stream",
     "text": [
      "/home/marin/.local/lib/python3.8/site-packages/skopt/optimizer/optimizer.py:517: UserWarning: The objective has been evaluated at point [0.8, 0.1] before, using random point [0.9898871933035317, 0.8193288129858032]\n",
      "  warnings.warn(\n"
     ]
    },
    {
     "name": "stdout",
     "output_type": "stream",
     "text": [
      "Params: [0.9898871933035317, 0.8193288129858032]\n",
      "Total score: 2405876.0\n"
     ]
    },
    {
     "name": "stderr",
     "output_type": "stream",
     "text": [
      "/home/marin/.local/lib/python3.8/site-packages/skopt/optimizer/optimizer.py:517: UserWarning: The objective has been evaluated at point [0.8, 0.1] before, using random point [0.9570503642039845, 0.32316054270762185]\n",
      "  warnings.warn(\n"
     ]
    },
    {
     "name": "stdout",
     "output_type": "stream",
     "text": [
      "Params: [0.9570503642039845, 0.32316054270762185]\n",
      "Total score: 2406033.0\n"
     ]
    },
    {
     "name": "stderr",
     "output_type": "stream",
     "text": [
      "/home/marin/.local/lib/python3.8/site-packages/skopt/optimizer/optimizer.py:517: UserWarning: The objective has been evaluated at point [0.8, 0.1] before, using random point [0.8211725813025871, 0.49540909884398476]\n",
      "  warnings.warn(\n"
     ]
    },
    {
     "name": "stdout",
     "output_type": "stream",
     "text": [
      "Params: [0.8211725813025871, 0.49540909884398476]\n",
      "Total score: 2405293.0\n"
     ]
    },
    {
     "name": "stderr",
     "output_type": "stream",
     "text": [
      "/home/marin/.local/lib/python3.8/site-packages/skopt/optimizer/optimizer.py:517: UserWarning: The objective has been evaluated at point [0.8, 0.1] before, using random point [0.8833935879483382, 0.30644104177200115]\n",
      "  warnings.warn(\n"
     ]
    },
    {
     "name": "stdout",
     "output_type": "stream",
     "text": [
      "Params: [0.8833935879483382, 0.30644104177200115]\n",
      "Total score: 2404164.0\n"
     ]
    },
    {
     "name": "stderr",
     "output_type": "stream",
     "text": [
      "/home/marin/.local/lib/python3.8/site-packages/skopt/optimizer/optimizer.py:517: UserWarning: The objective has been evaluated at point [0.8, 0.1] before, using random point [0.9284964271000373, 0.6861505085862459]\n",
      "  warnings.warn(\n"
     ]
    },
    {
     "name": "stdout",
     "output_type": "stream",
     "text": [
      "Params: [0.9284964271000373, 0.6861505085862459]\n",
      "Total score: 2407003.0\n"
     ]
    },
    {
     "name": "stderr",
     "output_type": "stream",
     "text": [
      "/home/marin/.local/lib/python3.8/site-packages/skopt/optimizer/optimizer.py:517: UserWarning: The objective has been evaluated at point [0.8, 0.1] before, using random point [0.9284504913691605, 0.25782719880221094]\n",
      "  warnings.warn(\n"
     ]
    },
    {
     "name": "stdout",
     "output_type": "stream",
     "text": [
      "Params: [0.9284504913691605, 0.25782719880221094]\n",
      "Total score: 2405453.0\n"
     ]
    },
    {
     "name": "stderr",
     "output_type": "stream",
     "text": [
      "/home/marin/.local/lib/python3.8/site-packages/skopt/optimizer/optimizer.py:517: UserWarning: The objective has been evaluated at point [0.8, 0.1] before, using random point [0.8100394842360595, 0.15814720856898856]\n",
      "  warnings.warn(\n"
     ]
    },
    {
     "name": "stdout",
     "output_type": "stream",
     "text": [
      "Params: [0.8100394842360595, 0.15814720856898856]\n",
      "Total score: 2402884.0\n"
     ]
    },
    {
     "name": "stderr",
     "output_type": "stream",
     "text": [
      "/home/marin/.local/lib/python3.8/site-packages/skopt/optimizer/optimizer.py:517: UserWarning: The objective has been evaluated at point [0.8, 0.1] before, using random point [0.9882387961925385, 0.24331328805706728]\n",
      "  warnings.warn(\n"
     ]
    },
    {
     "name": "stdout",
     "output_type": "stream",
     "text": [
      "Params: [0.9882387961925385, 0.24331328805706728]\n",
      "Total score: 2405383.0\n"
     ]
    },
    {
     "name": "stderr",
     "output_type": "stream",
     "text": [
      "/home/marin/.local/lib/python3.8/site-packages/skopt/optimizer/optimizer.py:517: UserWarning: The objective has been evaluated at point [0.8, 0.1] before, using random point [0.9705408903993172, 0.989416247392417]\n",
      "  warnings.warn(\n"
     ]
    },
    {
     "name": "stdout",
     "output_type": "stream",
     "text": [
      "Params: [0.9705408903993172, 0.989416247392417]\n",
      "Total score: 2406807.0\n"
     ]
    },
    {
     "name": "stderr",
     "output_type": "stream",
     "text": [
      "/home/marin/.local/lib/python3.8/site-packages/skopt/optimizer/optimizer.py:517: UserWarning: The objective has been evaluated at point [0.8, 0.1] before, using random point [0.9595453502308204, 0.48327779006291094]\n",
      "  warnings.warn(\n"
     ]
    },
    {
     "name": "stdout",
     "output_type": "stream",
     "text": [
      "Params: [0.9595453502308204, 0.48327779006291094]\n",
      "Total score: 2404821.0\n"
     ]
    },
    {
     "name": "stderr",
     "output_type": "stream",
     "text": [
      "/home/marin/.local/lib/python3.8/site-packages/skopt/optimizer/optimizer.py:517: UserWarning: The objective has been evaluated at point [0.8, 0.1] before, using random point [0.9636509282877246, 0.49378021120313875]\n",
      "  warnings.warn(\n"
     ]
    },
    {
     "name": "stdout",
     "output_type": "stream",
     "text": [
      "Params: [0.9636509282877246, 0.49378021120313875]\n",
      "Total score: 2404413.0\n"
     ]
    },
    {
     "name": "stderr",
     "output_type": "stream",
     "text": [
      "/home/marin/.local/lib/python3.8/site-packages/skopt/optimizer/optimizer.py:517: UserWarning: The objective has been evaluated at point [0.8, 0.1] before, using random point [0.898208672590038, 0.4353865952839494]\n",
      "  warnings.warn(\n"
     ]
    },
    {
     "name": "stdout",
     "output_type": "stream",
     "text": [
      "Params: [0.898208672590038, 0.4353865952839494]\n",
      "Total score: 2404086.0\n"
     ]
    },
    {
     "name": "stderr",
     "output_type": "stream",
     "text": [
      "/home/marin/.local/lib/python3.8/site-packages/skopt/optimizer/optimizer.py:517: UserWarning: The objective has been evaluated at point [0.8, 0.1] before, using random point [0.8873600946927108, 0.7937913440469481]\n",
      "  warnings.warn(\n"
     ]
    },
    {
     "name": "stdout",
     "output_type": "stream",
     "text": [
      "Params: [0.8873600946927108, 0.7937913440469481]\n",
      "Total score: 2408492.0\n"
     ]
    },
    {
     "name": "stderr",
     "output_type": "stream",
     "text": [
      "/home/marin/.local/lib/python3.8/site-packages/skopt/optimizer/optimizer.py:517: UserWarning: The objective has been evaluated at point [0.8, 0.1] before, using random point [0.8318953186928278, 0.7074272890866237]\n",
      "  warnings.warn(\n"
     ]
    },
    {
     "name": "stdout",
     "output_type": "stream",
     "text": [
      "Params: [0.8318953186928278, 0.7074272890866237]\n",
      "Total score: 2408831.0\n"
     ]
    },
    {
     "name": "stderr",
     "output_type": "stream",
     "text": [
      "/home/marin/.local/lib/python3.8/site-packages/skopt/optimizer/optimizer.py:517: UserWarning: The objective has been evaluated at point [0.8, 0.1] before, using random point [0.8049087083261393, 0.885473719296458]\n",
      "  warnings.warn(\n"
     ]
    },
    {
     "name": "stdout",
     "output_type": "stream",
     "text": [
      "Params: [0.8049087083261393, 0.885473719296458]\n",
      "Total score: 2405622.0\n"
     ]
    },
    {
     "name": "stderr",
     "output_type": "stream",
     "text": [
      "/home/marin/.local/lib/python3.8/site-packages/skopt/optimizer/optimizer.py:517: UserWarning: The objective has been evaluated at point [0.8, 0.1] before, using random point [0.8666375245177447, 0.5491765995510257]\n",
      "  warnings.warn(\n"
     ]
    },
    {
     "name": "stdout",
     "output_type": "stream",
     "text": [
      "Params: [0.8666375245177447, 0.5491765995510257]\n",
      "Total score: 2407887.0\n"
     ]
    },
    {
     "name": "stderr",
     "output_type": "stream",
     "text": [
      "/home/marin/.local/lib/python3.8/site-packages/skopt/optimizer/optimizer.py:517: UserWarning: The objective has been evaluated at point [0.8, 0.1] before, using random point [0.8993418596076911, 0.508269909239452]\n",
      "  warnings.warn(\n"
     ]
    },
    {
     "name": "stdout",
     "output_type": "stream",
     "text": [
      "Params: [0.8993418596076911, 0.508269909239452]\n",
      "Total score: 2404061.0\n"
     ]
    },
    {
     "name": "stderr",
     "output_type": "stream",
     "text": [
      "/home/marin/.local/lib/python3.8/site-packages/skopt/optimizer/optimizer.py:517: UserWarning: The objective has been evaluated at point [0.8, 0.1] before, using random point [0.9836245638592818, 0.8633800948707341]\n",
      "  warnings.warn(\n"
     ]
    },
    {
     "name": "stdout",
     "output_type": "stream",
     "text": [
      "Params: [0.9836245638592818, 0.8633800948707341]\n",
      "Total score: 2407097.0\n"
     ]
    },
    {
     "name": "stderr",
     "output_type": "stream",
     "text": [
      "/home/marin/.local/lib/python3.8/site-packages/skopt/optimizer/optimizer.py:517: UserWarning: The objective has been evaluated at point [0.8, 0.1] before, using random point [0.8676696007842137, 0.4527344631675566]\n",
      "  warnings.warn(\n"
     ]
    },
    {
     "name": "stdout",
     "output_type": "stream",
     "text": [
      "Params: [0.8676696007842137, 0.4527344631675566]\n",
      "Total score: 2403268.0\n"
     ]
    },
    {
     "name": "stderr",
     "output_type": "stream",
     "text": [
      "/home/marin/.local/lib/python3.8/site-packages/skopt/optimizer/optimizer.py:517: UserWarning: The objective has been evaluated at point [0.8, 0.1] before, using random point [0.8174285890062245, 0.5869302919287079]\n",
      "  warnings.warn(\n"
     ]
    },
    {
     "name": "stdout",
     "output_type": "stream",
     "text": [
      "Params: [0.8174285890062245, 0.5869302919287079]\n",
      "Total score: 2406652.0\n"
     ]
    },
    {
     "name": "stderr",
     "output_type": "stream",
     "text": [
      "/home/marin/.local/lib/python3.8/site-packages/skopt/optimizer/optimizer.py:517: UserWarning: The objective has been evaluated at point [0.8, 0.1] before, using random point [0.9413176456693318, 0.10501458846798344]\n",
      "  warnings.warn(\n"
     ]
    },
    {
     "name": "stdout",
     "output_type": "stream",
     "text": [
      "Params: [0.9413176456693318, 0.10501458846798344]\n",
      "Total score: 2406505.0\n"
     ]
    },
    {
     "name": "stderr",
     "output_type": "stream",
     "text": [
      "/home/marin/.local/lib/python3.8/site-packages/skopt/optimizer/optimizer.py:517: UserWarning: The objective has been evaluated at point [0.8, 0.1] before, using random point [0.8697871122686314, 0.5589729772655271]\n",
      "  warnings.warn(\n"
     ]
    },
    {
     "name": "stdout",
     "output_type": "stream",
     "text": [
      "Params: [0.8697871122686314, 0.5589729772655271]\n",
      "Total score: 2408102.0\n"
     ]
    },
    {
     "name": "stderr",
     "output_type": "stream",
     "text": [
      "/home/marin/.local/lib/python3.8/site-packages/skopt/optimizer/optimizer.py:517: UserWarning: The objective has been evaluated at point [0.8, 0.1] before, using random point [0.9737755268102896, 0.8466119361161849]\n",
      "  warnings.warn(\n"
     ]
    },
    {
     "name": "stdout",
     "output_type": "stream",
     "text": [
      "Params: [0.9737755268102896, 0.8466119361161849]\n",
      "Total score: 2407447.0\n"
     ]
    },
    {
     "name": "stderr",
     "output_type": "stream",
     "text": [
      "/home/marin/.local/lib/python3.8/site-packages/skopt/optimizer/optimizer.py:517: UserWarning: The objective has been evaluated at point [0.8, 0.1] before, using random point [0.809076714259497, 0.5340929961550307]\n",
      "  warnings.warn(\n"
     ]
    },
    {
     "name": "stdout",
     "output_type": "stream",
     "text": [
      "Params: [0.809076714259497, 0.5340929961550307]\n",
      "Total score: 2406110.0\n"
     ]
    },
    {
     "name": "stderr",
     "output_type": "stream",
     "text": [
      "/home/marin/.local/lib/python3.8/site-packages/skopt/optimizer/optimizer.py:517: UserWarning: The objective has been evaluated at point [0.8, 0.1] before, using random point [0.8893997876796212, 0.2823725618780317]\n",
      "  warnings.warn(\n"
     ]
    },
    {
     "name": "stdout",
     "output_type": "stream",
     "text": [
      "Params: [0.8893997876796212, 0.2823725618780317]\n",
      "Total score: 2405141.0\n"
     ]
    },
    {
     "name": "stderr",
     "output_type": "stream",
     "text": [
      "/home/marin/.local/lib/python3.8/site-packages/skopt/optimizer/optimizer.py:517: UserWarning: The objective has been evaluated at point [0.8, 0.1] before, using random point [0.9759659578404966, 0.8213812583403532]\n",
      "  warnings.warn(\n"
     ]
    },
    {
     "name": "stdout",
     "output_type": "stream",
     "text": [
      "Params: [0.9759659578404966, 0.8213812583403532]\n",
      "Total score: 2409609.0\n"
     ]
    },
    {
     "name": "stderr",
     "output_type": "stream",
     "text": [
      "/home/marin/.local/lib/python3.8/site-packages/skopt/optimizer/optimizer.py:517: UserWarning: The objective has been evaluated at point [0.8, 0.1] before, using random point [0.8758011494313663, 0.47505289541257345]\n",
      "  warnings.warn(\n"
     ]
    },
    {
     "name": "stdout",
     "output_type": "stream",
     "text": [
      "Params: [0.8758011494313663, 0.47505289541257345]\n",
      "Total score: 2404799.0\n"
     ]
    },
    {
     "name": "stderr",
     "output_type": "stream",
     "text": [
      "/home/marin/.local/lib/python3.8/site-packages/skopt/optimizer/optimizer.py:517: UserWarning: The objective has been evaluated at point [0.8, 0.1] before, using random point [0.8600225569083012, 0.15269988425900868]\n",
      "  warnings.warn(\n"
     ]
    },
    {
     "name": "stdout",
     "output_type": "stream",
     "text": [
      "Params: [0.8600225569083012, 0.15269988425900868]\n",
      "Total score: 2401852.0\n"
     ]
    },
    {
     "name": "stderr",
     "output_type": "stream",
     "text": [
      "/home/marin/.local/lib/python3.8/site-packages/skopt/optimizer/optimizer.py:517: UserWarning: The objective has been evaluated at point [0.8, 0.1] before, using random point [0.8493415040018378, 0.6576671788620481]\n",
      "  warnings.warn(\n"
     ]
    },
    {
     "name": "stdout",
     "output_type": "stream",
     "text": [
      "Params: [0.8493415040018378, 0.6576671788620481]\n",
      "Total score: 2405766.0\n"
     ]
    },
    {
     "name": "stderr",
     "output_type": "stream",
     "text": [
      "/home/marin/.local/lib/python3.8/site-packages/skopt/optimizer/optimizer.py:517: UserWarning: The objective has been evaluated at point [0.8, 0.1] before, using random point [0.8641090555392223, 0.5529656096383391]\n",
      "  warnings.warn(\n"
     ]
    },
    {
     "name": "stdout",
     "output_type": "stream",
     "text": [
      "Params: [0.8641090555392223, 0.5529656096383391]\n",
      "Total score: 2405293.0\n"
     ]
    },
    {
     "name": "stderr",
     "output_type": "stream",
     "text": [
      "/home/marin/.local/lib/python3.8/site-packages/skopt/optimizer/optimizer.py:517: UserWarning: The objective has been evaluated at point [0.8, 0.1] before, using random point [0.9896853333574831, 0.8104807429378674]\n",
      "  warnings.warn(\n"
     ]
    },
    {
     "name": "stdout",
     "output_type": "stream",
     "text": [
      "Params: [0.9896853333574831, 0.8104807429378674]\n",
      "Total score: 2406154.0\n"
     ]
    },
    {
     "name": "stderr",
     "output_type": "stream",
     "text": [
      "/home/marin/.local/lib/python3.8/site-packages/skopt/optimizer/optimizer.py:517: UserWarning: The objective has been evaluated at point [0.8, 0.1] before, using random point [0.9654698568535958, 0.1638325832019673]\n",
      "  warnings.warn(\n"
     ]
    },
    {
     "name": "stdout",
     "output_type": "stream",
     "text": [
      "Params: [0.9654698568535958, 0.1638325832019673]\n",
      "Total score: 2402885.0\n"
     ]
    },
    {
     "name": "stderr",
     "output_type": "stream",
     "text": [
      "/home/marin/.local/lib/python3.8/site-packages/skopt/optimizer/optimizer.py:517: UserWarning: The objective has been evaluated at point [0.8, 0.1] before, using random point [0.866782252817969, 0.29440985063923103]\n",
      "  warnings.warn(\n"
     ]
    },
    {
     "name": "stdout",
     "output_type": "stream",
     "text": [
      "Params: [0.866782252817969, 0.29440985063923103]\n",
      "Total score: 2402785.0\n"
     ]
    },
    {
     "name": "stderr",
     "output_type": "stream",
     "text": [
      "/home/marin/.local/lib/python3.8/site-packages/skopt/optimizer/optimizer.py:517: UserWarning: The objective has been evaluated at point [0.8, 0.1] before, using random point [0.968233755277081, 0.3656404335436796]\n",
      "  warnings.warn(\n"
     ]
    },
    {
     "name": "stdout",
     "output_type": "stream",
     "text": [
      "Params: [0.968233755277081, 0.3656404335436796]\n",
      "Total score: 2405292.0\n"
     ]
    },
    {
     "name": "stderr",
     "output_type": "stream",
     "text": [
      "/home/marin/.local/lib/python3.8/site-packages/skopt/optimizer/optimizer.py:517: UserWarning: The objective has been evaluated at point [0.8, 0.1] before, using random point [0.8693278907740571, 0.16665430685262506]\n",
      "  warnings.warn(\n"
     ]
    },
    {
     "name": "stdout",
     "output_type": "stream",
     "text": [
      "Params: [0.8693278907740571, 0.16665430685262506]\n",
      "Total score: 2402688.0\n"
     ]
    },
    {
     "name": "stderr",
     "output_type": "stream",
     "text": [
      "/home/marin/.local/lib/python3.8/site-packages/skopt/optimizer/optimizer.py:517: UserWarning: The objective has been evaluated at point [0.8, 0.1] before, using random point [0.8670095953557188, 0.8403900042239592]\n",
      "  warnings.warn(\n"
     ]
    },
    {
     "name": "stdout",
     "output_type": "stream",
     "text": [
      "Params: [0.8670095953557188, 0.8403900042239592]\n",
      "Total score: 2407888.0\n"
     ]
    },
    {
     "name": "stderr",
     "output_type": "stream",
     "text": [
      "/home/marin/.local/lib/python3.8/site-packages/skopt/optimizer/optimizer.py:517: UserWarning: The objective has been evaluated at point [0.8, 0.1] before, using random point [0.8112894029463684, 0.22054395938562135]\n",
      "  warnings.warn(\n"
     ]
    },
    {
     "name": "stdout",
     "output_type": "stream",
     "text": [
      "Params: [0.8112894029463684, 0.22054395938562135]\n",
      "Total score: 2400844.0\n"
     ]
    },
    {
     "name": "stderr",
     "output_type": "stream",
     "text": [
      "/home/marin/.local/lib/python3.8/site-packages/skopt/optimizer/optimizer.py:517: UserWarning: The objective has been evaluated at point [0.8, 0.1] before, using random point [0.9774793487401359, 0.23021619547631816]\n",
      "  warnings.warn(\n"
     ]
    },
    {
     "name": "stdout",
     "output_type": "stream",
     "text": [
      "Params: [0.9774793487401359, 0.23021619547631816]\n",
      "Total score: 2403083.0\n"
     ]
    },
    {
     "name": "stderr",
     "output_type": "stream",
     "text": [
      "/home/marin/.local/lib/python3.8/site-packages/skopt/optimizer/optimizer.py:517: UserWarning: The objective has been evaluated at point [0.8, 0.1] before, using random point [0.8860363878264342, 0.40285931746702164]\n",
      "  warnings.warn(\n"
     ]
    },
    {
     "name": "stdout",
     "output_type": "stream",
     "text": [
      "Params: [0.8860363878264342, 0.40285931746702164]\n",
      "Total score: 2405685.0\n"
     ]
    },
    {
     "name": "stderr",
     "output_type": "stream",
     "text": [
      "/home/marin/.local/lib/python3.8/site-packages/skopt/optimizer/optimizer.py:517: UserWarning: The objective has been evaluated at point [0.8, 0.1] before, using random point [0.8310752840346828, 0.13714739920409566]\n",
      "  warnings.warn(\n"
     ]
    },
    {
     "name": "stdout",
     "output_type": "stream",
     "text": [
      "Params: [0.8310752840346828, 0.13714739920409566]\n",
      "Total score: 2402851.0\n"
     ]
    },
    {
     "name": "stderr",
     "output_type": "stream",
     "text": [
      "/home/marin/.local/lib/python3.8/site-packages/skopt/optimizer/optimizer.py:517: UserWarning: The objective has been evaluated at point [0.8, 0.1] before, using random point [0.9109679919121498, 0.6473617048255702]\n",
      "  warnings.warn(\n"
     ]
    },
    {
     "name": "stdout",
     "output_type": "stream",
     "text": [
      "Params: [0.9109679919121498, 0.6473617048255702]\n",
      "Total score: 2407359.0\n"
     ]
    },
    {
     "name": "stderr",
     "output_type": "stream",
     "text": [
      "/home/marin/.local/lib/python3.8/site-packages/skopt/optimizer/optimizer.py:517: UserWarning: The objective has been evaluated at point [0.8, 0.1] before, using random point [0.8868243226146972, 0.9000538321007668]\n",
      "  warnings.warn(\n"
     ]
    },
    {
     "name": "stdout",
     "output_type": "stream",
     "text": [
      "Params: [0.8868243226146972, 0.9000538321007668]\n",
      "Total score: 2407221.0\n"
     ]
    },
    {
     "name": "stderr",
     "output_type": "stream",
     "text": [
      "/home/marin/.local/lib/python3.8/site-packages/skopt/optimizer/optimizer.py:517: UserWarning: The objective has been evaluated at point [0.8, 0.1] before, using random point [0.9337583126388977, 0.709402173773429]\n",
      "  warnings.warn(\n"
     ]
    },
    {
     "name": "stdout",
     "output_type": "stream",
     "text": [
      "Params: [0.9337583126388977, 0.709402173773429]\n",
      "Total score: 2404233.0\n"
     ]
    },
    {
     "name": "stderr",
     "output_type": "stream",
     "text": [
      "/home/marin/.local/lib/python3.8/site-packages/skopt/optimizer/optimizer.py:517: UserWarning: The objective has been evaluated at point [0.8, 0.1] before, using random point [0.857153676875156, 0.5737613770715728]\n",
      "  warnings.warn(\n"
     ]
    },
    {
     "name": "stdout",
     "output_type": "stream",
     "text": [
      "Params: [0.857153676875156, 0.5737613770715728]\n",
      "Total score: 2404636.0\n"
     ]
    },
    {
     "name": "stderr",
     "output_type": "stream",
     "text": [
      "/home/marin/.local/lib/python3.8/site-packages/skopt/optimizer/optimizer.py:517: UserWarning: The objective has been evaluated at point [0.8, 0.1] before, using random point [0.8338980761135019, 0.14800877115199274]\n",
      "  warnings.warn(\n"
     ]
    },
    {
     "name": "stdout",
     "output_type": "stream",
     "text": [
      "Params: [0.8338980761135019, 0.14800877115199274]\n",
      "Total score: 2403490.0\n"
     ]
    },
    {
     "name": "stderr",
     "output_type": "stream",
     "text": [
      "/home/marin/.local/lib/python3.8/site-packages/skopt/optimizer/optimizer.py:517: UserWarning: The objective has been evaluated at point [0.8, 0.1] before, using random point [0.9670654171792823, 0.18701954270351473]\n",
      "  warnings.warn(\n"
     ]
    },
    {
     "name": "stdout",
     "output_type": "stream",
     "text": [
      "Params: [0.9670654171792823, 0.18701954270351473]\n",
      "Total score: 2404653.0\n"
     ]
    },
    {
     "name": "stderr",
     "output_type": "stream",
     "text": [
      "/home/marin/.local/lib/python3.8/site-packages/skopt/optimizer/optimizer.py:517: UserWarning: The objective has been evaluated at point [0.8, 0.1] before, using random point [0.8211952220949315, 0.8176999892189251]\n",
      "  warnings.warn(\n"
     ]
    },
    {
     "name": "stdout",
     "output_type": "stream",
     "text": [
      "Params: [0.8211952220949315, 0.8176999892189251]\n",
      "Total score: 2406298.0\n"
     ]
    },
    {
     "name": "stderr",
     "output_type": "stream",
     "text": [
      "/home/marin/.local/lib/python3.8/site-packages/skopt/optimizer/optimizer.py:517: UserWarning: The objective has been evaluated at point [0.8, 0.1] before, using random point [0.9295898241087612, 0.31477801523228655]\n",
      "  warnings.warn(\n"
     ]
    },
    {
     "name": "stdout",
     "output_type": "stream",
     "text": [
      "Params: [0.9295898241087612, 0.31477801523228655]\n",
      "Total score: 2404512.0\n"
     ]
    },
    {
     "name": "stderr",
     "output_type": "stream",
     "text": [
      "/home/marin/.local/lib/python3.8/site-packages/skopt/optimizer/optimizer.py:517: UserWarning: The objective has been evaluated at point [0.8, 0.1] before, using random point [0.9331104877297748, 0.8925582287415702]\n",
      "  warnings.warn(\n"
     ]
    },
    {
     "name": "stdout",
     "output_type": "stream",
     "text": [
      "Params: [0.9331104877297748, 0.8925582287415702]\n",
      "Total score: 2406081.0\n"
     ]
    },
    {
     "name": "stderr",
     "output_type": "stream",
     "text": [
      "/home/marin/.local/lib/python3.8/site-packages/skopt/optimizer/optimizer.py:517: UserWarning: The objective has been evaluated at point [0.8, 0.1] before, using random point [0.9294253439372804, 0.2892764423192347]\n",
      "  warnings.warn(\n"
     ]
    },
    {
     "name": "stdout",
     "output_type": "stream",
     "text": [
      "Params: [0.9294253439372804, 0.2892764423192347]\n",
      "Total score: 2404031.0\n"
     ]
    },
    {
     "name": "stderr",
     "output_type": "stream",
     "text": [
      "/home/marin/.local/lib/python3.8/site-packages/skopt/optimizer/optimizer.py:517: UserWarning: The objective has been evaluated at point [0.8, 0.1] before, using random point [0.8375568379648407, 0.6927253036432086]\n",
      "  warnings.warn(\n"
     ]
    },
    {
     "name": "stdout",
     "output_type": "stream",
     "text": [
      "Params: [0.8375568379648407, 0.6927253036432086]\n",
      "Total score: 2406598.0\n"
     ]
    },
    {
     "name": "stderr",
     "output_type": "stream",
     "text": [
      "/home/marin/.local/lib/python3.8/site-packages/skopt/optimizer/optimizer.py:517: UserWarning: The objective has been evaluated at point [0.8, 0.1] before, using random point [0.9558238170806456, 0.4893609189214747]\n",
      "  warnings.warn(\n"
     ]
    },
    {
     "name": "stdout",
     "output_type": "stream",
     "text": [
      "Params: [0.9558238170806456, 0.4893609189214747]\n",
      "Total score: 2403667.0\n"
     ]
    },
    {
     "name": "stderr",
     "output_type": "stream",
     "text": [
      "/home/marin/.local/lib/python3.8/site-packages/skopt/optimizer/optimizer.py:517: UserWarning: The objective has been evaluated at point [0.8, 0.1] before, using random point [0.8334599651349204, 0.4340336369109087]\n",
      "  warnings.warn(\n"
     ]
    },
    {
     "name": "stdout",
     "output_type": "stream",
     "text": [
      "Params: [0.8334599651349204, 0.4340336369109087]\n",
      "Total score: 2405246.0\n"
     ]
    },
    {
     "name": "stderr",
     "output_type": "stream",
     "text": [
      "/home/marin/.local/lib/python3.8/site-packages/skopt/optimizer/optimizer.py:517: UserWarning: The objective has been evaluated at point [0.8, 0.1] before, using random point [0.8231954592354698, 0.1452876893291141]\n",
      "  warnings.warn(\n"
     ]
    },
    {
     "name": "stdout",
     "output_type": "stream",
     "text": [
      "Params: [0.8231954592354698, 0.1452876893291141]\n",
      "Total score: 2400801.0\n"
     ]
    },
    {
     "name": "stderr",
     "output_type": "stream",
     "text": [
      "/home/marin/.local/lib/python3.8/site-packages/skopt/optimizer/optimizer.py:517: UserWarning: The objective has been evaluated at point [0.8, 0.1] before, using random point [0.8983759065697413, 0.8043749309044962]\n",
      "  warnings.warn(\n"
     ]
    },
    {
     "name": "stdout",
     "output_type": "stream",
     "text": [
      "Params: [0.8983759065697413, 0.8043749309044962]\n",
      "Total score: 2407065.0\n"
     ]
    }
   ],
   "source": [
    "# Define the search space for the parameters\n",
    "space = [\n",
    "    Real(0.8, 0.99, name='pc'),\n",
    "    Real(0.1, 0.99, name='pm')\n",
    "]\n",
    "\n",
    "# Perform Bayesian optimization\n",
    "res = gp_minimize(compute_overall_score_GA, space, n_calls=100, random_state=0)"
   ]
  },
  {
   "cell_type": "code",
   "execution_count": 61,
   "metadata": {},
   "outputs": [
    {
     "name": "stdout",
     "output_type": "stream",
     "text": [
      "Best parameters found:\n",
      "pc: 0.8231954592354698\n",
      "pm: 0.1452876893291141\n",
      "Best score achieved:\n",
      "2400801.0\n"
     ]
    }
   ],
   "source": [
    "# Output the best parameters found\n",
    "print(\"Best parameters found:\")\n",
    "print(f\"pc: {res.x[0]}\")\n",
    "print(f\"pm: {res.x[1]}\")\n",
    "\n",
    "print(\"Best score achieved:\")\n",
    "print(res.fun)"
   ]
  },
  {
   "cell_type": "code",
   "execution_count": 78,
   "metadata": {},
   "outputs": [],
   "source": [
    "def compute_overall_score_ACO(params):\n",
    "    sample_count, intent_factor, zeta = params\n",
    "    # intent_factor, zeta = params\n",
    "    print(f\"Params: {params}\")\n",
    "    total_score = 0\n",
    "\n",
    "    for filename, content in file_data.items():\n",
    "        data = read_file_input(f\"{folder_path}/{filename}\")\n",
    "        problem_jssp = JSSP(bounds=PermutationVar(valid_set=[i for i in range(data.shape[0])], name=\"per\"), processing_times=data, minmax=\"min\", log_to=\"\")\n",
    "        model = ACOR.OriginalACOR(epoch=50, pop_size=20, sample_count=int(sample_count), intent_factor=intent_factor, zeta=zeta)\n",
    "        model.solve(problem=problem_jssp)\n",
    "        \n",
    "        total_score += model.g_best.target.fitness\n",
    "\n",
    "    print(f\"Total score: {total_score}\")\n",
    "    return total_score"
   ]
  },
  {
   "cell_type": "code",
   "execution_count": 80,
   "metadata": {},
   "outputs": [
    {
     "name": "stdout",
     "output_type": "stream",
     "text": [
      "Params: [19, 0.8513965162371057, 4.295354070175282]\n",
      "Total score: 2420611.0\n",
      "Params: [23, 0.6549716901395155, 1.979626548661303]\n",
      "Total score: 2414572.0\n",
      "Params: [14, 0.15047454981252445, 1.433289280496754]\n",
      "Total score: 2419300.0\n",
      "Params: [17, 0.8228301686101891, 2.447088372914031]\n",
      "Total score: 2420526.0\n",
      "Params: [16, 0.8441100995482662, 1.749867224440443]\n",
      "Total score: 2419678.0\n",
      "Params: [20, 0.4277349704580877, 4.780488727280398]\n",
      "Total score: 2418014.0\n",
      "Params: [12, 0.8743776599390085, 2.415943341388445]\n",
      "Total score: 2428239.0\n",
      "Params: [22, 0.5632249568005724, 3.4197209022817168]\n",
      "Total score: 2415532.0\n",
      "Params: [21, 0.6179976149468455, 2.7277550920056632]\n",
      "Total score: 2417828.0\n",
      "Params: [21, 0.19425777039713504, 2.4159060506051557]\n",
      "Total score: 2417297.0\n",
      "Params: [25, 0.1, 4.99]\n",
      "Total score: 2416230.0\n",
      "Params: [23, 0.6513338095319289, 2.06873690924435]\n",
      "Total score: 2414084.0\n",
      "Params: [23, 0.7373529925815903, 4.99]\n",
      "Total score: 2415515.0\n",
      "Params: [24, 0.4656078310643821, 0.7764789825141976]\n",
      "Total score: 2405469.0\n",
      "Params: [25, 0.1, 0.1]\n",
      "Total score: 2393327.0\n",
      "Params: [25, 0.99, 0.1]\n",
      "Total score: 2398235.0\n"
     ]
    },
    {
     "name": "stderr",
     "output_type": "stream",
     "text": [
      "/home/marin/.local/lib/python3.8/site-packages/skopt/optimizer/optimizer.py:517: UserWarning: The objective has been evaluated at point [25, 0.1, 0.1] before, using random point [21, 0.9144740848013515, 4.496750688844827]\n",
      "  warnings.warn(\n"
     ]
    },
    {
     "name": "stdout",
     "output_type": "stream",
     "text": [
      "Params: [21, 0.9144740848013515, 4.496750688844827]\n",
      "Total score: 2418655.0\n"
     ]
    },
    {
     "name": "stderr",
     "output_type": "stream",
     "text": [
      "/home/marin/.local/lib/python3.8/site-packages/skopt/optimizer/optimizer.py:517: UserWarning: The objective has been evaluated at point [25, 0.1, 0.1] before, using random point [17, 0.8645498099261213, 4.972280061334667]\n",
      "  warnings.warn(\n"
     ]
    },
    {
     "name": "stdout",
     "output_type": "stream",
     "text": [
      "Params: [17, 0.8645498099261213, 4.972280061334667]\n",
      "Total score: 2420593.0\n"
     ]
    },
    {
     "name": "stderr",
     "output_type": "stream",
     "text": [
      "/home/marin/.local/lib/python3.8/site-packages/skopt/optimizer/optimizer.py:517: UserWarning: The objective has been evaluated at point [25, 0.1, 0.1] before, using random point [11, 0.8841527323879416, 3.156693087260733]\n",
      "  warnings.warn(\n"
     ]
    },
    {
     "name": "stdout",
     "output_type": "stream",
     "text": [
      "Params: [11, 0.8841527323879416, 3.156693087260733]\n",
      "Total score: 2428664.0\n"
     ]
    },
    {
     "name": "stderr",
     "output_type": "stream",
     "text": [
      "/home/marin/.local/lib/python3.8/site-packages/skopt/optimizer/optimizer.py:517: UserWarning: The objective has been evaluated at point [25, 0.1, 0.1] before, using random point [12, 0.5522576792796648, 0.5068680810305788]\n",
      "  warnings.warn(\n"
     ]
    },
    {
     "name": "stdout",
     "output_type": "stream",
     "text": [
      "Params: [12, 0.5522576792796648, 0.5068680810305788]\n",
      "Total score: 2417715.0\n"
     ]
    }
   ],
   "source": [
    "# Define the search space for the parameters\n",
    "space = [\n",
    "    Integer(10, 25, name='sample_count'),\n",
    "    Real(0.1, 0.99, name='intent_factor'),\n",
    "    Real(0.1, 4.99, name='zeta')\n",
    "]\n",
    "\n",
    "# Perform Bayesian optimization\n",
    "res = gp_minimize(compute_overall_score_ACO, space, n_calls=20, random_state=0)"
   ]
  },
  {
   "cell_type": "code",
   "execution_count": 82,
   "metadata": {},
   "outputs": [
    {
     "name": "stdout",
     "output_type": "stream",
     "text": [
      "Best parameters found:\n",
      "sample_count: 25\n",
      "intent_factor: 0.1\n",
      "zeta: 0.1\n",
      "Best score achieved:\n",
      "2393327.0\n"
     ]
    }
   ],
   "source": [
    "# Output the best parameters found\n",
    "print(\"Best parameters found:\")\n",
    "print(f\"sample_count: {res.x[0]}\")\n",
    "print(f\"intent_factor: {res.x[1]}\")\n",
    "print(f\"zeta: {res.x[2]}\")\n",
    "\n",
    "print(\"Best score achieved:\")\n",
    "print(res.fun)"
   ]
  }
 ],
 "metadata": {
  "kernelspec": {
   "display_name": "Python 3",
   "language": "python",
   "name": "python3"
  },
  "language_info": {
   "codemirror_mode": {
    "name": "ipython",
    "version": 3
   },
   "file_extension": ".py",
   "mimetype": "text/x-python",
   "name": "python",
   "nbconvert_exporter": "python",
   "pygments_lexer": "ipython3",
   "version": "3.8.10"
  }
 },
 "nbformat": 4,
 "nbformat_minor": 2
}
