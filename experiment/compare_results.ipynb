{
 "cells": [
  {
   "cell_type": "code",
   "execution_count": 23,
   "metadata": {},
   "outputs": [],
   "source": [
    "import csv, math, os"
   ]
  },
  {
   "cell_type": "code",
   "execution_count": 24,
   "metadata": {},
   "outputs": [],
   "source": [
    "best_results_path = \"../data/jss/imrg/ds1/best/testbed1_small.csv\""
   ]
  },
  {
   "cell_type": "code",
   "execution_count": 25,
   "metadata": {},
   "outputs": [
    {
     "data": {
      "text/plain": [
       "{'filename': 't1s_0001', 'cost': '663'}"
      ]
     },
     "execution_count": 25,
     "metadata": {},
     "output_type": "execute_result"
    }
   ],
   "source": [
    "def read_csv_results(file_path):\n",
    "    best_results = []\n",
    "    with open(file_path, mode='r') as file:\n",
    "        csv_reader = csv.reader(file)\n",
    "        header = next(csv_reader)\n",
    "        for row in csv_reader:\n",
    "            best_results.append({'filename': row[0], 'cost': row[1]})\n",
    "\n",
    "    return best_results\n",
    "\n",
    "best = read_csv_results(best_results_path)\n",
    "\n",
    "best[0]"
   ]
  },
  {
   "cell_type": "code",
   "execution_count": 26,
   "metadata": {},
   "outputs": [],
   "source": [
    "def compute_metrics(results, best):\n",
    "    total_difference = 0\n",
    "    total_squared_difference = 0\n",
    "\n",
    "    for i in range(len(results)):\n",
    "        cost = float(results[i]['cost'])\n",
    "        best_cost = float(best[i]['cost'])\n",
    "        cost_difference = cost - best_cost\n",
    "        relative_difference = (cost_difference / best_cost) * 100\n",
    "        total_difference += abs(cost_difference)\n",
    "        total_squared_difference += cost_difference ** 2\n",
    "        # print(f\"Filename: {results[i]['filename']}, Absolute Difference: {cost_difference}, Relative Difference: {relative_difference:.2f}%\")\n",
    "\n",
    "    mae = total_difference / len(results)\n",
    "    rmse = math.sqrt(total_squared_difference / len(results))\n",
    "\n",
    "    print(f\"Mean Absolute Error (MAE): {mae}\")\n",
    "    print(f\"Root Mean Squared Error (RMSE): {rmse}\")"
   ]
  },
  {
   "cell_type": "code",
   "execution_count": 29,
   "metadata": {},
   "outputs": [],
   "source": [
    "# results_folders = ['epoch1400', 'epoch6900', 'epoch13800', 'epoch27500', 'epoch41500']\n",
    "results_folders = ['epoch1400', 'epoch6900', 'epoch13800']"
   ]
  },
  {
   "cell_type": "code",
   "execution_count": 33,
   "metadata": {},
   "outputs": [
    {
     "name": "stdout",
     "output_type": "stream",
     "text": [
      "SA\n",
      "\n",
      "Computing metrics for epoch1400\n",
      "Mhac\n",
      "Mean Absolute Error (MAE): 3103.9416666666666\n",
      "Root Mean Squared Error (RMSE): 4522.723944151357\n",
      "\n",
      "Computing metrics for epoch6900\n",
      "Mhac\n",
      "Mean Absolute Error (MAE): 3079.1694444444443\n",
      "Root Mean Squared Error (RMSE): 4486.23204030336\n",
      "\n",
      "Computing metrics for epoch13800\n",
      "Mhac\n",
      "Mean Absolute Error (MAE): 3071.616666666667\n",
      "Root Mean Squared Error (RMSE): 4474.151884870348\n",
      "\n",
      "\n",
      "GA\n",
      "\n",
      "Computing metrics for epoch1400\n",
      "Mhac\n",
      "Mean Absolute Error (MAE): 3091.8444444444444\n",
      "Root Mean Squared Error (RMSE): 4504.772006809371\n",
      "\n",
      "Computing metrics for epoch6900\n",
      "Mhac\n",
      "Mean Absolute Error (MAE): 3088.2444444444445\n",
      "Root Mean Squared Error (RMSE): 4498.924023215625\n",
      "\n",
      "Computing metrics for epoch13800\n",
      "Mhac\n",
      "Mean Absolute Error (MAE): 3088.1944444444443\n",
      "Root Mean Squared Error (RMSE): 4495.220983938882\n",
      "\n",
      "\n",
      "ACO\n",
      "\n",
      "Computing metrics for epoch1400\n",
      "Mhac\n",
      "Mean Absolute Error (MAE): 3387.8055555555557\n",
      "Root Mean Squared Error (RMSE): 4771.007991562743\n",
      "\n",
      "Computing metrics for epoch6900\n",
      "Mhac\n",
      "Mean Absolute Error (MAE): 3353.488888888889\n",
      "Root Mean Squared Error (RMSE): 4731.431121881741\n",
      "\n",
      "Computing metrics for epoch13800\n",
      "Mhac\n",
      "Mean Absolute Error (MAE): 3341.325\n",
      "Root Mean Squared Error (RMSE): 4714.812371369853\n"
     ]
    }
   ],
   "source": [
    "def compute_results(main_path):\n",
    "    for folder in results_folders:\n",
    "        base_path = os.path.join(main_path, folder)\n",
    "        # meal = read_csv_results(os.path.join(base_path, \"meal.csv\"))\n",
    "        mhac = read_csv_results(os.path.join(base_path, \"mhac.csv\"))\n",
    "\n",
    "        print(f\"\\nComputing metrics for {folder}\")\n",
    "        # print(\"Meal\")\n",
    "        # compute_metrics(meal, best)\n",
    "        print(\"Mhac\")\n",
    "        compute_metrics(mhac, best)\n",
    "\n",
    "print(\"SA\")\n",
    "compute_results(\"results/SA/\")\n",
    "print(\"\\n\\nGA\")\n",
    "compute_results(\"results/GA/\")\n",
    "print(\"\\n\\nACO\")\n",
    "compute_results(\"results/ACO/\")"
   ]
  }
 ],
 "metadata": {
  "kernelspec": {
   "display_name": "Python 3",
   "language": "python",
   "name": "python3"
  },
  "language_info": {
   "codemirror_mode": {
    "name": "ipython",
    "version": 3
   },
   "file_extension": ".py",
   "mimetype": "text/x-python",
   "name": "python",
   "nbconvert_exporter": "python",
   "pygments_lexer": "ipython3",
   "version": "3.8.10"
  }
 },
 "nbformat": 4,
 "nbformat_minor": 2
}
