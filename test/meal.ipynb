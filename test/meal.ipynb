{
 "cells": [
  {
   "cell_type": "code",
   "execution_count": null,
   "metadata": {},
   "outputs": [],
   "source": [
    "import numpy as np\n",
    "from mealpy import FloatVar, SA\n",
    "\n",
    "\n",
    "def objective_function(solution):\n",
    "    return np.sum(solution**2)\n",
    "\n",
    "\n",
    "problem_dict = {\n",
    "    \"bounds\": FloatVar(lb=(-10.,) * 30, ub=(10.,) * 30, name=\"delta\"),\n",
    "    \"minmax\": \"min\",\n",
    "    \"obj_func\": objective_function\n",
    "}\n",
    "\n",
    "\n",
    "model = SA.GaussianSA(epoch=1000, pop_size=2, temp_init = 100, cooling_rate = 0.99, scale = 0.1)\n",
    "g_best = model.solve(problem_dict)\n",
    "\n",
    "print(f\"Solution: {g_best.solution}, Fitness: {g_best.target.fitness}\")\n",
    "print(f\"Solution: {model.g_best.solution}, Fitness: {model.g_best.target.fitness}\")"
   ]
  },
  {
   "cell_type": "code",
   "execution_count": null,
   "metadata": {},
   "outputs": [],
   "source": [
    "import random\n",
    "import math\n",
    "\n",
    "# Objective function\n",
    "def objective_function(x):\n",
    "    return x**2\n",
    "\n",
    "# Neighborhood function\n",
    "def get_neighbor(x):\n",
    "    delta = random.uniform(-10, 10)  # Generate a small change\n",
    "    return x + delta\n",
    "\n",
    "# Cooling schedule\n",
    "def cooling_schedule(t, cooling_factor=0.95):\n",
    "    return t * cooling_factor\n",
    "\n",
    "# Simulated Annealing algorithm\n",
    "def simulated_annealing(initial_solution, initial_temperature, cooling_factor, stopping_temperature, max_iterations_per_temperature):\n",
    "    current_solution = initial_solution\n",
    "    current_temperature = initial_temperature\n",
    "    while current_temperature > stopping_temperature:\n",
    "        for _ in range(max_iterations_per_temperature):\n",
    "            new_solution = get_neighbor(current_solution)\n",
    "            delta = objective_function(new_solution) - objective_function(current_solution)\n",
    "            if delta <= 0 or random.random() < math.exp(-delta / current_temperature):\n",
    "                current_solution = new_solution\n",
    "        current_temperature = cooling_schedule(current_temperature, cooling_factor)\n",
    "    return current_solution\n",
    "\n",
    "# Parameters\n",
    "initial_solution = random.uniform(-100, 100)  # Starting point\n",
    "initial_temperature = 100  # Initial temperature\n",
    "cooling_factor = 0.95  # Cooling factor\n",
    "stopping_temperature = 1e-3  # Stopping temperature\n",
    "max_iterations_per_temperature = 100  # Iterations per temperature\n",
    "\n",
    "# Run the algorithm\n",
    "optimal_solution = simulated_annealing(initial_solution, initial_temperature, cooling_factor, stopping_temperature, max_iterations_per_temperature)\n",
    "print(f\"Optimal solution: {optimal_solution}, Objective value: {objective_function(optimal_solution)}\")"
   ]
  }
 ],
 "metadata": {
  "language_info": {
   "name": "python"
  }
 },
 "nbformat": 4,
 "nbformat_minor": 2
}
