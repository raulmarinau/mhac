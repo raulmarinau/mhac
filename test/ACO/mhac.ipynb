{
 "cells": [
  {
   "cell_type": "code",
   "execution_count": 1,
   "metadata": {},
   "outputs": [],
   "source": [
    "import sys\n",
    "sys.path.append(\"/home/marin/projects/mhac/build/release\")\n",
    "import mhac"
   ]
  },
  {
   "cell_type": "code",
   "execution_count": 2,
   "metadata": {},
   "outputs": [],
   "source": [
    "%matplotlib inline\n",
    "import random, copy, math\n",
    "import matplotlib.pyplot as plt\n",
    "import numpy as np"
   ]
  },
  {
   "cell_type": "code",
   "execution_count": 3,
   "metadata": {},
   "outputs": [],
   "source": [
    "def read_TSP_data(filepath=\"../../data/tsp/eil51.tsp\"):\n",
    "    cities = mhac.problems.tsp.Cities()\n",
    "\n",
    "    with open(filepath, 'r') as infile:\n",
    "        Name = infile.readline().strip().split()[1]\n",
    "        FileType = infile.readline().strip().split()[1]\n",
    "        Comment = infile.readline().strip().split()[1]\n",
    "        Dimension = infile.readline().strip().split(\":\")[1]\n",
    "        EdgeWeightType = infile.readline().strip().split()[1]\n",
    "        infile.readline()\n",
    "\n",
    "        for i in range(int(Dimension)):\n",
    "            coords = infile.readline().strip().split()[1:]\n",
    "            city = mhac.problems.tsp.City(int(coords[0]), int(coords[1]))\n",
    "            cities.append(city)\n",
    "\n",
    "    return cities"
   ]
  },
  {
   "cell_type": "code",
   "execution_count": 4,
   "metadata": {},
   "outputs": [],
   "source": [
    "def displayTour(cities, solution):\n",
    "    plt.figure(figsize = (16,8))\n",
    "    N = len(cities)\n",
    "\n",
    "    plt.axes()\n",
    "    plt.plot([cities[solution[i % N]].x for i in range(N+1)], [cities[solution[i % N]].y for i in range(N+1)], 'bo-')\n",
    "    plt.show()"
   ]
  },
  {
   "cell_type": "code",
   "execution_count": null,
   "metadata": {},
   "outputs": [
    {
     "ename": "",
     "evalue": "",
     "output_type": "error",
     "traceback": [
      "\u001b[1;31mThe Kernel crashed while executing code in the current cell or a previous cell. \n",
      "\u001b[1;31mPlease review the code in the cell(s) to identify a possible cause of the failure. \n",
      "\u001b[1;31mClick <a href='https://aka.ms/vscodeJupyterKernelCrash'>here</a> for more info. \n",
      "\u001b[1;31mView Jupyter <a href='command:jupyter.viewOutput'>log</a> for further details."
     ]
    }
   ],
   "source": [
    "problem = mhac.problems.tsp.ACO_TSP(read_TSP_data())\n",
    "ACO = mhac.swarm.AntColonyOptimization(problem)\n",
    "sol = ACO.solve(150, 20, 0.5, 0.5, 0.25)\n",
    "displayTour(problem.mCities, sol.tour)\n",
    "sol.cost"
   ]
  }
 ],
 "metadata": {
  "kernelspec": {
   "display_name": "Python 3",
   "language": "python",
   "name": "python3"
  },
  "language_info": {
   "codemirror_mode": {
    "name": "ipython",
    "version": 3
   },
   "file_extension": ".py",
   "mimetype": "text/x-python",
   "name": "python",
   "nbconvert_exporter": "python",
   "pygments_lexer": "ipython3",
   "version": "3.8.10"
  }
 },
 "nbformat": 4,
 "nbformat_minor": 2
}
