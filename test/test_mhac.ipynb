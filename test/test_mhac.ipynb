{
 "cells": [
  {
   "cell_type": "code",
   "execution_count": 1,
   "metadata": {},
   "outputs": [],
   "source": [
    "import sys\n",
    "sys.path.append(\"/mnt/c/users/marin/Dropbox/University/Master/dissertation/project/mhac/build\")\n",
    "import mhac"
   ]
  },
  {
   "cell_type": "code",
   "execution_count": 2,
   "metadata": {},
   "outputs": [],
   "source": [
    "%matplotlib inline\n",
    "import random, numpy, copy, matplotlib.pyplot as plt\n",
    "import numpy as np\n",
    "import random\n",
    "import math"
   ]
  },
  {
   "cell_type": "code",
   "execution_count": 3,
   "metadata": {},
   "outputs": [],
   "source": [
    "def read_TSP_data(filepath=\"../data/tsp/eil101.tsp\"):\n",
    "    cities = mhac.physics.Cities()\n",
    "\n",
    "    with open(filepath, 'r') as infile:\n",
    "        Name = infile.readline().strip().split()[1] # NAME\n",
    "        FileType = infile.readline().strip().split()[1] # TYPE\n",
    "        Comment = infile.readline().strip().split()[1] # COMMENT\n",
    "        Dimension = infile.readline().strip().split(\":\")[1] # DIMENSION\n",
    "        EdgeWeightType = infile.readline().strip().split()[1] # EDGE_WEIGHT_TYPE\n",
    "        infile.readline()\n",
    "\n",
    "        for i in range(int(Dimension)):\n",
    "            coords = infile.readline().strip().split()[1:]\n",
    "            cities.append(mhac.physics.City(coords))\n",
    "\n",
    "    return cities"
   ]
  },
  {
   "cell_type": "code",
   "execution_count": 4,
   "metadata": {},
   "outputs": [
    {
     "ename": "TypeError",
     "evalue": "'str' object cannot be interpreted as an integer",
     "output_type": "error",
     "traceback": [
      "\u001b[0;31m---------------------------------------------------------------------------\u001b[0m",
      "\u001b[0;31mTypeError\u001b[0m                                 Traceback (most recent call last)",
      "Cell \u001b[0;32mIn[4], line 1\u001b[0m\n\u001b[0;32m----> 1\u001b[0m problem \u001b[38;5;241m=\u001b[39m mhac\u001b[38;5;241m.\u001b[39mphysics\u001b[38;5;241m.\u001b[39mTSP(\u001b[43mread_TSP_data\u001b[49m\u001b[43m(\u001b[49m\u001b[43m)\u001b[49m)\n",
      "Cell \u001b[0;32mIn[3], line 12\u001b[0m, in \u001b[0;36mread_TSP_data\u001b[0;34m(filepath)\u001b[0m\n\u001b[1;32m      9\u001b[0m EdgeWeightType \u001b[38;5;241m=\u001b[39m infile\u001b[38;5;241m.\u001b[39mreadline()\u001b[38;5;241m.\u001b[39mstrip()\u001b[38;5;241m.\u001b[39msplit()[\u001b[38;5;241m1\u001b[39m] \u001b[38;5;66;03m# EDGE_WEIGHT_TYPE\u001b[39;00m\n\u001b[1;32m     10\u001b[0m infile\u001b[38;5;241m.\u001b[39mreadline()\n\u001b[0;32m---> 12\u001b[0m \u001b[38;5;28;01mfor\u001b[39;00m i \u001b[38;5;129;01min\u001b[39;00m \u001b[38;5;28;43mrange\u001b[39;49m\u001b[43m(\u001b[49m\u001b[43mDimension\u001b[49m\u001b[43m)\u001b[49m:\n\u001b[1;32m     13\u001b[0m     coords \u001b[38;5;241m=\u001b[39m infile\u001b[38;5;241m.\u001b[39mreadline()\u001b[38;5;241m.\u001b[39mstrip()\u001b[38;5;241m.\u001b[39msplit()[\u001b[38;5;241m1\u001b[39m:]\n\u001b[1;32m     14\u001b[0m     cities\u001b[38;5;241m.\u001b[39mappend(mhac\u001b[38;5;241m.\u001b[39mphysics\u001b[38;5;241m.\u001b[39mCity(coords))\n",
      "\u001b[0;31mTypeError\u001b[0m: 'str' object cannot be interpreted as an integer"
     ]
    }
   ],
   "source": [
    "problem = mhac.physics.TSP(read_TSP_data())"
   ]
  }
 ],
 "metadata": {
  "kernelspec": {
   "display_name": "Python 3",
   "language": "python",
   "name": "python3"
  },
  "language_info": {
   "codemirror_mode": {
    "name": "ipython",
    "version": 3
   },
   "file_extension": ".py",
   "mimetype": "text/x-python",
   "name": "python",
   "nbconvert_exporter": "python",
   "pygments_lexer": "ipython3",
   "version": "3.8.10"
  }
 },
 "nbformat": 4,
 "nbformat_minor": 2
}
