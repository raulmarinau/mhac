{
 "cells": [
  {
   "cell_type": "code",
   "execution_count": 1,
   "metadata": {},
   "outputs": [],
   "source": [
    "import sys\n",
    "sys.path.append(\"/home/marin/projects/mhac/build\")\n",
    "import mhac"
   ]
  },
  {
   "cell_type": "code",
   "execution_count": 2,
   "metadata": {},
   "outputs": [],
   "source": [
    "%matplotlib inline\n",
    "import random, copy, math\n",
    "import matplotlib.pyplot as plt\n",
    "import numpy as np"
   ]
  },
  {
   "cell_type": "code",
   "execution_count": 3,
   "metadata": {},
   "outputs": [],
   "source": [
    "def read_TSP_data(filepath=\"../data/tsp/eil101.tsp\"):\n",
    "    cities = mhac.physics.Cities()\n",
    "\n",
    "    with open(filepath, 'r') as infile:\n",
    "        Name = infile.readline().strip().split()[1] # NAME\n",
    "        FileType = infile.readline().strip().split()[1] # TYPE\n",
    "        Comment = infile.readline().strip().split()[1] # COMMENT\n",
    "        Dimension = infile.readline().strip().split(\":\")[1] # DIMENSION\n",
    "        EdgeWeightType = infile.readline().strip().split()[1] # EDGE_WEIGHT_TYPE\n",
    "        infile.readline()\n",
    "\n",
    "        for i in range(int(Dimension)):\n",
    "            coords = infile.readline().strip().split()[1:]\n",
    "            cities.append(mhac.physics.City(int(coords[0]), int(coords[1])))\n",
    "\n",
    "    return cities"
   ]
  },
  {
   "cell_type": "code",
   "execution_count": 4,
   "metadata": {},
   "outputs": [],
   "source": [
    "# def displayTour(cities, solution):\n",
    "#     plt.figure(figsize = (16,8))\n",
    "#     N = len(cities)\n",
    "\n",
    "#     plt.axes()\n",
    "#     plt.plot([cities[solution[i % N]].x for i in range(N+1)], [cities[solution[i % N]].y for i in range(N+1)], 'bo-')\n",
    "#     plt.show()"
   ]
  },
  {
   "cell_type": "code",
   "execution_count": 4,
   "metadata": {},
   "outputs": [],
   "source": [
    "problem = mhac.physics.TSP(read_TSP_data())\n",
    "SA = mhac.physics.SimulatedAnnealing(problem)\n",
    "\n",
    "SA.solve(1000., 0.000001)\n",
    "\n",
    "# displayTour(problem.mCities, SA.getSolution())"
   ]
  }
 ],
 "metadata": {
  "kernelspec": {
   "display_name": "Python 3",
   "language": "python",
   "name": "python3"
  },
  "language_info": {
   "codemirror_mode": {
    "name": "ipython",
    "version": 3
   },
   "file_extension": ".py",
   "mimetype": "text/x-python",
   "name": "python",
   "nbconvert_exporter": "python",
   "pygments_lexer": "ipython3",
   "version": "3.8.10"
  }
 },
 "nbformat": 4,
 "nbformat_minor": 2
}
